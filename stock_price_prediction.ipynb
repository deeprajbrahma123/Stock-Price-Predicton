{
  "nbformat": 4,
  "nbformat_minor": 0,
  "metadata": {
    "colab": {
      "provenance": [],
      "authorship_tag": "ABX9TyM6oVV2/8v23wh/Mgs1utUg",
      "include_colab_link": true
    },
    "kernelspec": {
      "name": "python3",
      "display_name": "Python 3"
    },
    "language_info": {
      "name": "python"
    }
  },
  "cells": [
    {
      "cell_type": "markdown",
      "metadata": {
        "id": "view-in-github",
        "colab_type": "text"
      },
      "source": [
        "<a href=\"https://colab.research.google.com/github/deeprajbrahma123/Stock-Price-Predicton/blob/main/stock_price_prediction.ipynb\" target=\"_parent\"><img src=\"https://colab.research.google.com/assets/colab-badge.svg\" alt=\"Open In Colab\"/></a>"
      ]
    },
    {
      "cell_type": "markdown",
      "source": [
        "#Stock Price Prediction"
      ],
      "metadata": {
        "id": "0S-fGwKF7qHU"
      }
    },
    {
      "cell_type": "markdown",
      "source": [
        "##Importing of libraries"
      ],
      "metadata": {
        "id": "QqO_o2rF84YF"
      }
    },
    {
      "cell_type": "code",
      "source": [
        "import numpy as np\n",
        "import matplotlib.pyplot as plt\n",
        "%matplotlib inline\n",
        "import pandas as pd"
      ],
      "metadata": {
        "id": "Ya2TG2vI7yiN"
      },
      "execution_count": 18,
      "outputs": []
    },
    {
      "cell_type": "markdown",
      "source": [
        "##Extraction do DataFrame"
      ],
      "metadata": {
        "id": "UNz1kzka750X"
      }
    },
    {
      "cell_type": "code",
      "source": [
        "df=pd.read_csv('stock_price_data_set.csv')\n",
        "df.info()"
      ],
      "metadata": {
        "colab": {
          "base_uri": "https://localhost:8080/"
        },
        "id": "Er4uH_t05xlH",
        "outputId": "c890d85f-0ddf-4ec5-f999-0364dd02811f"
      },
      "execution_count": 19,
      "outputs": [
        {
          "output_type": "stream",
          "name": "stdout",
          "text": [
            "<class 'pandas.core.frame.DataFrame'>\n",
            "RangeIndex: 1009 entries, 0 to 1008\n",
            "Data columns (total 7 columns):\n",
            " #   Column     Non-Null Count  Dtype  \n",
            "---  ------     --------------  -----  \n",
            " 0   Date       1009 non-null   object \n",
            " 1   Open       1009 non-null   float64\n",
            " 2   High       1009 non-null   float64\n",
            " 3   Low        1009 non-null   float64\n",
            " 4   Close      1009 non-null   float64\n",
            " 5   Adj Close  1009 non-null   float64\n",
            " 6   Volume     1009 non-null   int64  \n",
            "dtypes: float64(5), int64(1), object(1)\n",
            "memory usage: 55.3+ KB\n"
          ]
        }
      ]
    },
    {
      "cell_type": "markdown",
      "source": [
        "**Since we can see we don't have any null values so we can proceed**"
      ],
      "metadata": {
        "id": "_a14IQPK8C1_"
      }
    },
    {
      "cell_type": "markdown",
      "source": [
        "##Changing the dtype of 'Date' to datetime"
      ],
      "metadata": {
        "id": "hyKdOmOI8I85"
      }
    },
    {
      "cell_type": "code",
      "source": [
        "df['Date']=pd.to_datetime(df['Date'])\n",
        "df.describe()"
      ],
      "metadata": {
        "colab": {
          "base_uri": "https://localhost:8080/",
          "height": 300
        },
        "id": "tVfg168i53HD",
        "outputId": "8455c8e7-5ca0-4757-947a-dd40c7f5861e"
      },
      "execution_count": 20,
      "outputs": [
        {
          "output_type": "execute_result",
          "data": {
            "text/plain": [
              "              Open         High          Low        Close    Adj Close  \\\n",
              "count  1009.000000  1009.000000  1009.000000  1009.000000  1009.000000   \n",
              "mean    419.059673   425.320703   412.374044   419.000733   419.000733   \n",
              "std     108.537532   109.262960   107.555867   108.289999   108.289999   \n",
              "min     233.919998   250.649994   231.229996   233.880005   233.880005   \n",
              "25%     331.489990   336.299988   326.000000   331.619995   331.619995   \n",
              "50%     377.769989   383.010010   370.880005   378.670013   378.670013   \n",
              "75%     509.130005   515.630005   502.529999   509.079987   509.079987   \n",
              "max     692.349976   700.989990   686.090027   691.690002   691.690002   \n",
              "\n",
              "             Volume  \n",
              "count  1.009000e+03  \n",
              "mean   7.570685e+06  \n",
              "std    5.465535e+06  \n",
              "min    1.144000e+06  \n",
              "25%    4.091900e+06  \n",
              "50%    5.934500e+06  \n",
              "75%    9.322400e+06  \n",
              "max    5.890430e+07  "
            ],
            "text/html": [
              "\n",
              "  <div id=\"df-a06cfd04-640d-4c5f-a97c-cf37c26227bb\">\n",
              "    <div class=\"colab-df-container\">\n",
              "      <div>\n",
              "<style scoped>\n",
              "    .dataframe tbody tr th:only-of-type {\n",
              "        vertical-align: middle;\n",
              "    }\n",
              "\n",
              "    .dataframe tbody tr th {\n",
              "        vertical-align: top;\n",
              "    }\n",
              "\n",
              "    .dataframe thead th {\n",
              "        text-align: right;\n",
              "    }\n",
              "</style>\n",
              "<table border=\"1\" class=\"dataframe\">\n",
              "  <thead>\n",
              "    <tr style=\"text-align: right;\">\n",
              "      <th></th>\n",
              "      <th>Open</th>\n",
              "      <th>High</th>\n",
              "      <th>Low</th>\n",
              "      <th>Close</th>\n",
              "      <th>Adj Close</th>\n",
              "      <th>Volume</th>\n",
              "    </tr>\n",
              "  </thead>\n",
              "  <tbody>\n",
              "    <tr>\n",
              "      <th>count</th>\n",
              "      <td>1009.000000</td>\n",
              "      <td>1009.000000</td>\n",
              "      <td>1009.000000</td>\n",
              "      <td>1009.000000</td>\n",
              "      <td>1009.000000</td>\n",
              "      <td>1.009000e+03</td>\n",
              "    </tr>\n",
              "    <tr>\n",
              "      <th>mean</th>\n",
              "      <td>419.059673</td>\n",
              "      <td>425.320703</td>\n",
              "      <td>412.374044</td>\n",
              "      <td>419.000733</td>\n",
              "      <td>419.000733</td>\n",
              "      <td>7.570685e+06</td>\n",
              "    </tr>\n",
              "    <tr>\n",
              "      <th>std</th>\n",
              "      <td>108.537532</td>\n",
              "      <td>109.262960</td>\n",
              "      <td>107.555867</td>\n",
              "      <td>108.289999</td>\n",
              "      <td>108.289999</td>\n",
              "      <td>5.465535e+06</td>\n",
              "    </tr>\n",
              "    <tr>\n",
              "      <th>min</th>\n",
              "      <td>233.919998</td>\n",
              "      <td>250.649994</td>\n",
              "      <td>231.229996</td>\n",
              "      <td>233.880005</td>\n",
              "      <td>233.880005</td>\n",
              "      <td>1.144000e+06</td>\n",
              "    </tr>\n",
              "    <tr>\n",
              "      <th>25%</th>\n",
              "      <td>331.489990</td>\n",
              "      <td>336.299988</td>\n",
              "      <td>326.000000</td>\n",
              "      <td>331.619995</td>\n",
              "      <td>331.619995</td>\n",
              "      <td>4.091900e+06</td>\n",
              "    </tr>\n",
              "    <tr>\n",
              "      <th>50%</th>\n",
              "      <td>377.769989</td>\n",
              "      <td>383.010010</td>\n",
              "      <td>370.880005</td>\n",
              "      <td>378.670013</td>\n",
              "      <td>378.670013</td>\n",
              "      <td>5.934500e+06</td>\n",
              "    </tr>\n",
              "    <tr>\n",
              "      <th>75%</th>\n",
              "      <td>509.130005</td>\n",
              "      <td>515.630005</td>\n",
              "      <td>502.529999</td>\n",
              "      <td>509.079987</td>\n",
              "      <td>509.079987</td>\n",
              "      <td>9.322400e+06</td>\n",
              "    </tr>\n",
              "    <tr>\n",
              "      <th>max</th>\n",
              "      <td>692.349976</td>\n",
              "      <td>700.989990</td>\n",
              "      <td>686.090027</td>\n",
              "      <td>691.690002</td>\n",
              "      <td>691.690002</td>\n",
              "      <td>5.890430e+07</td>\n",
              "    </tr>\n",
              "  </tbody>\n",
              "</table>\n",
              "</div>\n",
              "      <button class=\"colab-df-convert\" onclick=\"convertToInteractive('df-a06cfd04-640d-4c5f-a97c-cf37c26227bb')\"\n",
              "              title=\"Convert this dataframe to an interactive table.\"\n",
              "              style=\"display:none;\">\n",
              "        \n",
              "  <svg xmlns=\"http://www.w3.org/2000/svg\" height=\"24px\"viewBox=\"0 0 24 24\"\n",
              "       width=\"24px\">\n",
              "    <path d=\"M0 0h24v24H0V0z\" fill=\"none\"/>\n",
              "    <path d=\"M18.56 5.44l.94 2.06.94-2.06 2.06-.94-2.06-.94-.94-2.06-.94 2.06-2.06.94zm-11 1L8.5 8.5l.94-2.06 2.06-.94-2.06-.94L8.5 2.5l-.94 2.06-2.06.94zm10 10l.94 2.06.94-2.06 2.06-.94-2.06-.94-.94-2.06-.94 2.06-2.06.94z\"/><path d=\"M17.41 7.96l-1.37-1.37c-.4-.4-.92-.59-1.43-.59-.52 0-1.04.2-1.43.59L10.3 9.45l-7.72 7.72c-.78.78-.78 2.05 0 2.83L4 21.41c.39.39.9.59 1.41.59.51 0 1.02-.2 1.41-.59l7.78-7.78 2.81-2.81c.8-.78.8-2.07 0-2.86zM5.41 20L4 18.59l7.72-7.72 1.47 1.35L5.41 20z\"/>\n",
              "  </svg>\n",
              "      </button>\n",
              "      \n",
              "  <style>\n",
              "    .colab-df-container {\n",
              "      display:flex;\n",
              "      flex-wrap:wrap;\n",
              "      gap: 12px;\n",
              "    }\n",
              "\n",
              "    .colab-df-convert {\n",
              "      background-color: #E8F0FE;\n",
              "      border: none;\n",
              "      border-radius: 50%;\n",
              "      cursor: pointer;\n",
              "      display: none;\n",
              "      fill: #1967D2;\n",
              "      height: 32px;\n",
              "      padding: 0 0 0 0;\n",
              "      width: 32px;\n",
              "    }\n",
              "\n",
              "    .colab-df-convert:hover {\n",
              "      background-color: #E2EBFA;\n",
              "      box-shadow: 0px 1px 2px rgba(60, 64, 67, 0.3), 0px 1px 3px 1px rgba(60, 64, 67, 0.15);\n",
              "      fill: #174EA6;\n",
              "    }\n",
              "\n",
              "    [theme=dark] .colab-df-convert {\n",
              "      background-color: #3B4455;\n",
              "      fill: #D2E3FC;\n",
              "    }\n",
              "\n",
              "    [theme=dark] .colab-df-convert:hover {\n",
              "      background-color: #434B5C;\n",
              "      box-shadow: 0px 1px 3px 1px rgba(0, 0, 0, 0.15);\n",
              "      filter: drop-shadow(0px 1px 2px rgba(0, 0, 0, 0.3));\n",
              "      fill: #FFFFFF;\n",
              "    }\n",
              "  </style>\n",
              "\n",
              "      <script>\n",
              "        const buttonEl =\n",
              "          document.querySelector('#df-a06cfd04-640d-4c5f-a97c-cf37c26227bb button.colab-df-convert');\n",
              "        buttonEl.style.display =\n",
              "          google.colab.kernel.accessAllowed ? 'block' : 'none';\n",
              "\n",
              "        async function convertToInteractive(key) {\n",
              "          const element = document.querySelector('#df-a06cfd04-640d-4c5f-a97c-cf37c26227bb');\n",
              "          const dataTable =\n",
              "            await google.colab.kernel.invokeFunction('convertToInteractive',\n",
              "                                                     [key], {});\n",
              "          if (!dataTable) return;\n",
              "\n",
              "          const docLinkHtml = 'Like what you see? Visit the ' +\n",
              "            '<a target=\"_blank\" href=https://colab.research.google.com/notebooks/data_table.ipynb>data table notebook</a>'\n",
              "            + ' to learn more about interactive tables.';\n",
              "          element.innerHTML = '';\n",
              "          dataTable['output_type'] = 'display_data';\n",
              "          await google.colab.output.renderOutput(dataTable, element);\n",
              "          const docLink = document.createElement('div');\n",
              "          docLink.innerHTML = docLinkHtml;\n",
              "          element.appendChild(docLink);\n",
              "        }\n",
              "      </script>\n",
              "    </div>\n",
              "  </div>\n",
              "  "
            ]
          },
          "metadata": {},
          "execution_count": 20
        }
      ]
    },
    {
      "cell_type": "markdown",
      "source": [
        "##Checking the time frame and total no. of days in the dataframe"
      ],
      "metadata": {
        "id": "HqgeQnHq8OBD"
      }
    },
    {
      "cell_type": "code",
      "source": [
        "print(f'Time frame from {df.Date.min()} to {df.Date.max()}')\n",
        "print(f'Total No. of days = {(df.Date.max() - (df.Date.min())).days} days')"
      ],
      "metadata": {
        "colab": {
          "base_uri": "https://localhost:8080/"
        },
        "id": "IaV-IFeg5520",
        "outputId": "c703126e-a798-460d-f1f2-50f4c0bc6954"
      },
      "execution_count": 21,
      "outputs": [
        {
          "output_type": "stream",
          "name": "stdout",
          "text": [
            "Time frame from 2018-02-05 00:00:00 to 2022-02-04 00:00:00\n",
            "Total No. of days = 1460 days\n"
          ]
        }
      ]
    },
    {
      "cell_type": "markdown",
      "source": [
        "##Visualizing the Data using Box Plot"
      ],
      "metadata": {
        "id": "HYLlqUaM8Qlp"
      }
    },
    {
      "cell_type": "code",
      "source": [
        "df[['Date','Open','High','Low','Close','Adj Close']].plot(kind='box')"
      ],
      "metadata": {
        "colab": {
          "base_uri": "https://localhost:8080/",
          "height": 447
        },
        "id": "3Y1bNFNz58i_",
        "outputId": "c9eab985-57c0-4450-e505-acd3b68b04e6"
      },
      "execution_count": 22,
      "outputs": [
        {
          "output_type": "execute_result",
          "data": {
            "text/plain": [
              "<Axes: >"
            ]
          },
          "metadata": {},
          "execution_count": 22
        },
        {
          "output_type": "display_data",
          "data": {
            "text/plain": [
              "<Figure size 640x480 with 1 Axes>"
            ],
            "image/png": "[encoded data removed]"
          },
          "metadata": {}
        }
      ]
    },
    {
      "cell_type": "markdown",
      "source": [
        "##Visualizing the change of price of stock with time"
      ],
      "metadata": {
        "id": "6trwRW4-8V3V"
      }
    },
    {
      "cell_type": "code",
      "source": [
        "import plotly.graph_objs as go\n",
        "from plotly.offline import iplot\n",
        "layout1 = go.Layout(title='Stock Price',\n",
        "                   xaxis=dict(title='Date'),\n",
        "                   yaxis=dict(title='Price')\n",
        "                   )\n",
        "data_set=[{'x':df['Date'],'y':df['Close']}]\n",
        "plot=go.Figure(data=data_set,layout=layout1)\n",
        "iplot(plot)"
      ],
      "metadata": {
        "colab": {
          "base_uri": "https://localhost:8080/",
          "height": 542
        },
        "id": "eJg4ONnj5_Wq",
        "outputId": "815cff59-9c2c-4395-baeb-4d97be67126a"
      },
      "execution_count": 23,
      "outputs": [
        {
          "output_type": "display_data",
          "data": {
            "text/html": [
              "<html>\n",
              "<head><meta charset=\"utf-8\" /></head>\n",
              "<body>\n",
              "    <div>            <script src=\"https://cdnjs.cloudflare.com/ajax/libs/mathjax/2.7.5/MathJax.js?config=TeX-AMS-MML_SVG\"></script><script type=\"text/javascript\">if (window.MathJax && window.MathJax.Hub && window.MathJax.Hub.Config) {window.MathJax.Hub.Config({SVG: {font: \"STIX-Web\"}});}</script>                <script type=\"text/javascript\">window.PlotlyConfig = {MathJaxConfig: 'local'};</script>\n",
              "        <script src=\"https://cdn.plot.ly/plotly-2.18.2.min.js\"></script>                <div id=\"da958f1d-c629-46dc-aa98-81ef7a062aa5\" class=\"plotly-graph-div\" style=\"height:525px; width:100%;\"></div>            <script type=\"text/javascript\">                                    window.PLOTLYENV=window.PLOTLYENV || {};                                    if (document.getElementById(\"da958f1d-c629-46dc-aa98-81ef7a062aa5\")) {                    Plotly.newPlot(                        \"da958f1d-c629-46dc-aa98-81ef7a062aa5\",                        [{\"x\":[\"2018-02-05T00:00:00\",\"2018-02-06T00:00:00\",\"2018-02-07T00:00:00\",\"2018-02-08T00:00:00\",\"2018-02-09T00:00:00\",\"2018-02-12T00:00:00\",\"2018-02-13T00:00:00\",\"2018-02-14T00:00:00\",\"2018-02-15T00:00:00\",\"2018-02-16T00:00:00\",\"2018-02-20T00:00:00\",\"2018-02-21T00:00:00\",\"2018-02-22T00:00:00\",\"2018-02-23T00:00:00\",\"2018-02-26T00:00:00\",\"2018-02-27T00:00:00\",\"2018-02-28T00:00:00\",\"2018-03-01T00:00:00\",\"2018-03-02T00:00:00\",\"2018-03-05T00:00:00\",\"2018-03-06T00:00:00\",\"2018-03-07T00:00:00\",\"2018-03-08T00:00:00\",\"2018-03-09T00:00:00\",\"2018-03-12T00:00:00\",\"2018-03-13T00:00:00\",\"2018-03-14T00:00:00\",\"2018-03-15T00:00:00\",\"2018-03-16T00:00:00\",\"2018-03-19T00:00:00\",\"2018-03-20T00:00:00\",\"2018-03-21T00:00:00\",\"2018-03-22T00:00:00\",\"2018-03-23T00:00:00\",\"2018-03-26T00:00:00\",\"2018-03-27T00:00:00\",\"2018-03-28T00:00:00\",\"2018-03-29T00:00:00\",\"2018-04-02T00:00:00\",\"2018-04-03T00:00:00\",\"2018-04-04T00:00:00\",\"2018-04-05T00:00:00\",\"2018-04-06T00:00:00\",\"2018-04-09T00:00:00\",\"2018-04-10T00:00:00\",\"2018-04-11T00:00:00\",\"2018-04-12T00:00:00\",\"2018-04-13T00:00:00\",\"2018-04-16T00:00:00\",\"2018-04-17T00:00:00\",\"2018-04-18T00:00:00\",\"2018-04-19T00:00:00\",\"2018-04-20T00:00:00\",\"2018-04-23T00:00:00\",\"2018-04-24T00:00:00\",\"2018-04-25T00:00:00\",\"2018-04-26T00:00:00\",\"2018-04-27T00:00:00\",\"2018-04-30T00:00:00\",\"2018-05-01T00:00:00\",\"2018-05-02T00:00:00\",\"2018-05-03T00:00:00\",\"2018-05-04T00:00:00\",\"2018-05-07T00:00:00\",\"2018-05-08T00:00:00\",\"2018-05-09T00:00:00\",\"2018-05-10T00:00:00\",\"2018-05-11T00:00:00\",\"2018-05-14T00:00:00\",\"2018-05-15T00:00:00\",\"2018-05-16T00:00:00\",\"2018-05-17T00:00:00\",\"2018-05-18T00:00:00\",\"2018-05-21T00:00:00\",\"2018-05-22T00:00:00\",\"2018-05-23T00:00:00\",\"2018-05-24T00:00:00\",\"2018-05-25T00:00:00\",\"2018-05-29T00:00:00\",\"2018-05-30T00:00:00\",\"2018-05-31T00:00:00\",\"2018-06-01T00:00:00\",\"2018-06-04T00:00:00\",\"2018-06-05T00:00:00\",\"2018-06-06T00:00:00\",\"2018-06-07T00:00:00\",\"2018-06-08T00:00:00\",\"2018-06-11T00:00:00\",\"2018-06-12T00:00:00\",\"2018-06-13T00:00:00\",\"2018-06-14T00:00:00\",\"2018-06-15T00:00:00\",\"2018-06-18T00:00:00\",\"2018-06-19T00:00:00\",\"2018-06-20T00:00:00\",\"2018-06-21T00:00:00\",\"2018-06-22T00:00:00\",\"2018-06-25T00:00:00\",\"2018-06-26T00:00:00\",\"2018-06-27T00:00:00\",\"2018-06-28T00:00:00\",\"2018-06-29T00:00:00\",\"2018-07-02T00:00:00\",\"2018-07-03T00:00:00\",\"2018-07-05T00:00:00\",\"2018-07-06T00:00:00\",\"2018-07-09T00:00:00\",\"2018-07-10T00:00:00\",\"2018-07-11T00:00:00\",\"2018-07-12T00:00:00\",\"2018-07-13T00:00:00\",\"2018-07-16T00:00:00\",\"2018-07-17T00:00:00\",\"2018-07-18T00:00:00\",\"2018-07-19T00:00:00\",\"2018-07-20T00:00:00\",\"2018-07-23T00:00:00\",\"2018-07-24T00:00:00\",\"2018-07-25T00:00:00\",\"2018-07-26T00:00:00\",\"2018-07-27T00:00:00\",\"2018-07-30T00:00:00\",\"2018-07-31T00:00:00\",\"2018-08-01T00:00:00\",\"2018-08-02T00:00:00\",\"2018-08-03T00:00:00\",\"2018-08-06T00:00:00\",\"2018-08-07T00:00:00\",\"2018-08-08T00:00:00\",\"2018-08-09T00:00:00\",\"2018-08-10T00:00:00\",\"2018-08-13T00:00:00\",\"2018-08-14T00:00:00\",\"2018-08-15T00:00:00\",\"2018-08-16T00:00:00\",\"2018-08-17T00:00:00\",\"2018-08-20T00:00:00\",\"2018-08-21T00:00:00\",\"2018-08-22T00:00:00\",\"2018-08-23T00:00:00\",\"2018-08-24T00:00:00\",\"2018-08-27T00:00:00\",\"2018-08-28T00:00:00\",\"2018-08-29T00:00:00\",\"2018-08-30T00:00:00\",\"2018-08-31T00:00:00\",\"2018-09-04T00:00:00\",\"2018-09-05T00:00:00\",\"2018-09-06T00:00:00\",\"2018-09-07T00:00:00\",\"2018-09-10T00:00:00\",\"2018-09-11T00:00:00\",\"2018-09-12T00:00:00\",\"2018-09-13T00:00:00\",\"2018-09-14T00:00:00\",\"2018-09-17T00:00:00\",\"2018-09-18T00:00:00\",\"2018-09-19T00:00:00\",\"2018-09-20T00:00:00\",\"2018-09-21T00:00:00\",\"2018-09-24T00:00:00\",\"2018-09-25T00:00:00\",\"2018-09-26T00:00:00\",\"2018-09-27T00:00:00\",\"2018-09-28T00:00:00\",\"2018-10-01T00:00:00\",\"2018-10-02T00:00:00\",\"2018-10-03T00:00:00\",\"2018-10-04T00:00:00\",\"2018-10-05T00:00:00\",\"2018-10-08T00:00:00\",\"2018-10-09T00:00:00\",\"2018-10-10T00:00:00\",\"2018-10-11T00:00:00\",\"2018-10-12T00:00:00\",\"2018-10-15T00:00:00\",\"2018-10-16T00:00:00\",\"2018-10-17T00:00:00\",\"2018-10-18T00:00:00\",\"2018-10-19T00:00:00\",\"2018-10-22T00:00:00\",\"2018-10-23T00:00:00\",\"2018-10-24T00:00:00\",\"2018-10-25T00:00:00\",\"2018-10-26T00:00:00\",\"2018-10-29T00:00:00\",\"2018-10-30T00:00:00\",\"2018-10-31T00:00:00\",\"2018-11-01T00:00:00\",\"2018-11-02T00:00:00\",\"2018-11-05T00:00:00\",\"2018-11-06T00:00:00\",\"2018-11-07T00:00:00\",\"2018-11-08T00:00:00\",\"2018-11-09T00:00:00\",\"2018-11-12T00:00:00\",\"2018-11-13T00:00:00\",\"2018-11-14T00:00:00\",\"2018-11-15T00:00:00\",\"2018-11-16T00:00:00\",\"2018-11-19T00:00:00\",\"2018-11-20T00:00:00\",\"2018-11-21T00:00:00\",\"2018-11-23T00:00:00\",\"2018-11-26T00:00:00\",\"2018-11-27T00:00:00\",\"2018-11-28T00:00:00\",\"2018-11-29T00:00:00\",\"2018-11-30T00:00:00\",\"2018-12-03T00:00:00\",\"2018-12-04T00:00:00\",\"2018-12-06T00:00:00\",\"2018-12-07T00:00:00\",\"2018-12-10T00:00:00\",\"2018-12-11T00:00:00\",\"2018-12-12T00:00:00\",\"2018-12-13T00:00:00\",\"2018-12-14T00:00:00\",\"2018-12-17T00:00:00\",\"2018-12-18T00:00:00\",\"2018-12-19T00:00:00\",\"2018-12-20T00:00:00\",\"2018-12-21T00:00:00\",\"2018-12-24T00:00:00\",\"2018-12-26T00:00:00\",\"2018-12-27T00:00:00\",\"2018-12-28T00:00:00\",\"2018-12-31T00:00:00\",\"2019-01-02T00:00:00\",\"2019-01-03T00:00:00\",\"2019-01-04T00:00:00\",\"2019-01-07T00:00:00\",\"2019-01-08T00:00:00\",\"2019-01-09T00:00:00\",\"2019-01-10T00:00:00\",\"2019-01-11T00:00:00\",\"2019-01-14T00:00:00\",\"2019-01-15T00:00:00\",\"2019-01-16T00:00:00\",\"2019-01-17T00:00:00\",\"2019-01-18T00:00:00\",\"2019-01-22T00:00:00\",\"2019-01-23T00:00:00\",\"2019-01-24T00:00:00\",\"2019-01-25T00:00:00\",\"2019-01-28T00:00:00\",\"2019-01-29T00:00:00\",\"2019-01-30T00:00:00\",\"2019-01-31T00:00:00\",\"2019-02-01T00:00:00\",\"2019-02-04T00:00:00\",\"2019-02-05T00:00:00\",\"2019-02-06T00:00:00\",\"2019-02-07T00:00:00\",\"2019-02-08T00:00:00\",\"2019-02-11T00:00:00\",\"2019-02-12T00:00:00\",\"2019-02-13T00:00:00\",\"2019-02-14T00:00:00\",\"2019-02-15T00:00:00\",\"2019-02-19T00:00:00\",\"2019-02-20T00:00:00\",\"2019-02-21T00:00:00\",\"2019-02-22T00:00:00\",\"2019-02-25T00:00:00\",\"2019-02-26T00:00:00\",\"2019-02-27T00:00:00\",\"2019-02-28T00:00:00\",\"2019-03-01T00:00:00\",\"2019-03-04T00:00:00\",\"2019-03-05T00:00:00\",\"2019-03-06T00:00:00\",\"2019-03-07T00:00:00\",\"2019-03-08T00:00:00\",\"2019-03-11T00:00:00\",\"2019-03-12T00:00:00\",\"2019-03-13T00:00:00\",\"2019-03-14T00:00:00\",\"2019-03-15T00:00:00\",\"2019-03-18T00:00:00\",\"2019-03-19T00:00:00\",\"2019-03-20T00:00:00\",\"2019-03-21T00:00:00\",\"2019-03-22T00:00:00\",\"2019-03-25T00:00:00\",\"2019-03-26T00:00:00\",\"2019-03-27T00:00:00\",\"2019-03-28T00:00:00\",\"2019-03-29T00:00:00\",\"2019-04-01T00:00:00\",\"2019-04-02T00:00:00\",\"2019-04-03T00:00:00\",\"2019-04-04T00:00:00\",\"2019-04-05T00:00:00\",\"2019-04-08T00:00:00\",\"2019-04-09T00:00:00\",\"2019-04-10T00:00:00\",\"2019-04-11T00:00:00\",\"2019-04-12T00:00:00\",\"2019-04-15T00:00:00\",\"2019-04-16T00:00:00\",\"2019-04-17T00:00:00\",\"2019-04-18T00:00:00\",\"2019-04-22T00:00:00\",\"2019-04-23T00:00:00\",\"2019-04-24T00:00:00\",\"2019-04-25T00:00:00\",\"2019-04-26T00:00:00\",\"2019-04-29T00:00:00\",\"2019-04-30T00:00:00\",\"2019-05-01T00:00:00\",\"2019-05-02T00:00:00\",\"2019-05-03T00:00:00\",\"2019-05-06T00:00:00\",\"2019-05-07T00:00:00\",\"2019-05-08T00:00:00\",\"2019-05-09T00:00:00\",\"2019-05-10T00:00:00\",\"2019-05-13T00:00:00\",\"2019-05-14T00:00:00\",\"2019-05-15T00:00:00\",\"2019-05-16T00:00:00\",\"2019-05-17T00:00:00\",\"2019-05-20T00:00:00\",\"2019-05-21T00:00:00\",\"2019-05-22T00:00:00\",\"2019-05-23T00:00:00\",\"2019-05-24T00:00:00\",\"2019-05-28T00:00:00\",\"2019-05-29T00:00:00\",\"2019-05-30T00:00:00\",\"2019-05-31T00:00:00\",\"2019-06-03T00:00:00\",\"2019-06-04T00:00:00\",\"2019-06-05T00:00:00\",\"2019-06-06T00:00:00\",\"2019-06-07T00:00:00\",\"2019-06-10T00:00:00\",\"2019-06-11T00:00:00\",\"2019-06-12T00:00:00\",\"2019-06-13T00:00:00\",\"2019-06-14T00:00:00\",\"2019-06-17T00:00:00\",\"2019-06-18T00:00:00\",\"2019-06-19T00:00:00\",\"2019-06-20T00:00:00\",\"2019-06-21T00:00:00\",\"2019-06-24T00:00:00\",\"2019-06-25T00:00:00\",\"2019-06-26T00:00:00\",\"2019-06-27T00:00:00\",\"2019-06-28T00:00:00\",\"2019-07-01T00:00:00\",\"2019-07-02T00:00:00\",\"2019-07-03T00:00:00\",\"2019-07-05T00:00:00\",\"2019-07-08T00:00:00\",\"2019-07-09T00:00:00\",\"2019-07-10T00:00:00\",\"2019-07-11T00:00:00\",\"2019-07-12T00:00:00\",\"2019-07-15T00:00:00\",\"2019-07-16T00:00:00\",\"2019-07-17T00:00:00\",\"2019-07-18T00:00:00\",\"2019-07-19T00:00:00\",\"2019-07-22T00:00:00\",\"2019-07-23T00:00:00\",\"2019-07-24T00:00:00\",\"2019-07-25T00:00:00\",\"2019-07-26T00:00:00\",\"2019-07-29T00:00:00\",\"2019-07-30T00:00:00\",\"2019-07-31T00:00:00\",\"2019-08-01T00:00:00\",\"2019-08-02T00:00:00\",\"2019-08-05T00:00:00\",\"2019-08-06T00:00:00\",\"2019-08-07T00:00:00\",\"2019-08-08T00:00:00\",\"2019-08-09T00:00:00\",\"2019-08-12T00:00:00\",\"2019-08-13T00:00:00\",\"2019-08-14T00:00:00\",\"2019-08-15T00:00:00\",\"2019-08-16T00:00:00\",\"2019-08-19T00:00:00\",\"2019-08-20T00:00:00\",\"2019-08-21T00:00:00\",\"2019-08-22T00:00:00\",\"2019-08-23T00:00:00\",\"2019-08-26T00:00:00\",\"2019-08-27T00:00:00\",\"2019-08-28T00:00:00\",\"2019-08-29T00:00:00\",\"2019-08-30T00:00:00\",\"2019-09-03T00:00:00\",\"2019-09-04T00:00:00\",\"2019-09-05T00:00:00\",\"2019-09-06T00:00:00\",\"2019-09-09T00:00:00\",\"2019-09-10T00:00:00\",\"2019-09-11T00:00:00\",\"2019-09-12T00:00:00\",\"2019-09-13T00:00:00\",\"2019-09-16T00:00:00\",\"2019-09-17T00:00:00\",\"2019-09-18T00:00:00\",\"2019-09-19T00:00:00\",\"2019-09-20T00:00:00\",\"2019-09-23T00:00:00\",\"2019-09-24T00:00:00\",\"2019-09-25T00:00:00\",\"2019-09-26T00:00:00\",\"2019-09-27T00:00:00\",\"2019-09-30T00:00:00\",\"2019-10-01T00:00:00\",\"2019-10-02T00:00:00\",\"2019-10-03T00:00:00\",\"2019-10-04T00:00:00\",\"2019-10-07T00:00:00\",\"2019-10-08T00:00:00\",\"2019-10-09T00:00:00\",\"2019-10-10T00:00:00\",\"2019-10-11T00:00:00\",\"2019-10-14T00:00:00\",\"2019-10-15T00:00:00\",\"2019-10-16T00:00:00\",\"2019-10-17T00:00:00\",\"2019-10-18T00:00:00\",\"2019-10-21T00:00:00\",\"2019-10-22T00:00:00\",\"2019-10-23T00:00:00\",\"2019-10-24T00:00:00\",\"2019-10-25T00:00:00\",\"2019-10-28T00:00:00\",\"2019-10-29T00:00:00\",\"2019-10-30T00:00:00\",\"2019-10-31T00:00:00\",\"2019-11-01T00:00:00\",\"2019-11-04T00:00:00\",\"2019-11-05T00:00:00\",\"2019-11-06T00:00:00\",\"2019-11-07T00:00:00\",\"2019-11-08T00:00:00\",\"2019-11-11T00:00:00\",\"2019-11-12T00:00:00\",\"2019-11-13T00:00:00\",\"2019-11-14T00:00:00\",\"2019-11-15T00:00:00\",\"2019-11-18T00:00:00\",\"2019-11-19T00:00:00\",\"2019-11-20T00:00:00\",\"2019-11-21T00:00:00\",\"2019-11-22T00:00:00\",\"2019-11-25T00:00:00\",\"2019-11-26T00:00:00\",\"2019-11-27T00:00:00\",\"2019-11-29T00:00:00\",\"2019-12-02T00:00:00\",\"2019-12-03T00:00:00\",\"2019-12-04T00:00:00\",\"2019-12-05T00:00:00\",\"2019-12-06T00:00:00\",\"2019-12-09T00:00:00\",\"2019-12-10T00:00:00\",\"2019-12-11T00:00:00\",\"2019-12-12T00:00:00\",\"2019-12-13T00:00:00\",\"2019-12-16T00:00:00\",\"2019-12-17T00:00:00\",\"2019-12-18T00:00:00\",\"2019-12-19T00:00:00\",\"2019-12-20T00:00:00\",\"2019-12-23T00:00:00\",\"2019-12-24T00:00:00\",\"2019-12-26T00:00:00\",\"2019-12-27T00:00:00\",\"2019-12-30T00:00:00\",\"2019-12-31T00:00:00\",\"2020-01-02T00:00:00\",\"2020-01-03T00:00:00\",\"2020-01-06T00:00:00\",\"2020-01-07T00:00:00\",\"2020-01-08T00:00:00\",\"2020-01-09T00:00:00\",\"2020-01-10T00:00:00\",\"2020-01-13T00:00:00\",\"2020-01-14T00:00:00\",\"2020-01-15T00:00:00\",\"2020-01-16T00:00:00\",\"2020-01-17T00:00:00\",\"2020-01-21T00:00:00\",\"2020-01-22T00:00:00\",\"2020-01-23T00:00:00\",\"2020-01-24T00:00:00\",\"2020-01-27T00:00:00\",\"2020-01-28T00:00:00\",\"2020-01-29T00:00:00\",\"2020-01-30T00:00:00\",\"2020-01-31T00:00:00\",\"2020-02-03T00:00:00\",\"2020-02-04T00:00:00\",\"2020-02-05T00:00:00\",\"2020-02-06T00:00:00\",\"2020-02-07T00:00:00\",\"2020-02-10T00:00:00\",\"2020-02-11T00:00:00\",\"2020-02-12T00:00:00\",\"2020-02-13T00:00:00\",\"2020-02-14T00:00:00\",\"2020-02-18T00:00:00\",\"2020-02-19T00:00:00\",\"2020-02-20T00:00:00\",\"2020-02-21T00:00:00\",\"2020-02-24T00:00:00\",\"2020-02-25T00:00:00\",\"2020-02-26T00:00:00\",\"2020-02-27T00:00:00\",\"2020-02-28T00:00:00\",\"2020-03-02T00:00:00\",\"2020-03-03T00:00:00\",\"2020-03-04T00:00:00\",\"2020-03-05T00:00:00\",\"2020-03-06T00:00:00\",\"2020-03-09T00:00:00\",\"2020-03-10T00:00:00\",\"2020-03-11T00:00:00\",\"2020-03-12T00:00:00\",\"2020-03-13T00:00:00\",\"2020-03-16T00:00:00\",\"2020-03-17T00:00:00\",\"2020-03-18T00:00:00\",\"2020-03-19T00:00:00\",\"2020-03-20T00:00:00\",\"2020-03-23T00:00:00\",\"2020-03-24T00:00:00\",\"2020-03-25T00:00:00\",\"2020-03-26T00:00:00\",\"2020-03-27T00:00:00\",\"2020-03-30T00:00:00\",\"2020-03-31T00:00:00\",\"2020-04-01T00:00:00\",\"2020-04-02T00:00:00\",\"2020-04-03T00:00:00\",\"2020-04-06T00:00:00\",\"2020-04-07T00:00:00\",\"2020-04-08T00:00:00\",\"2020-04-09T00:00:00\",\"2020-04-13T00:00:00\",\"2020-04-14T00:00:00\",\"2020-04-15T00:00:00\",\"2020-04-16T00:00:00\",\"2020-04-17T00:00:00\",\"2020-04-20T00:00:00\",\"2020-04-21T00:00:00\",\"2020-04-22T00:00:00\",\"2020-04-23T00:00:00\",\"2020-04-24T00:00:00\",\"2020-04-27T00:00:00\",\"2020-04-28T00:00:00\",\"2020-04-29T00:00:00\",\"2020-04-30T00:00:00\",\"2020-05-01T00:00:00\",\"2020-05-04T00:00:00\",\"2020-05-05T00:00:00\",\"2020-05-06T00:00:00\",\"2020-05-07T00:00:00\",\"2020-05-08T00:00:00\",\"2020-05-11T00:00:00\",\"2020-05-12T00:00:00\",\"2020-05-13T00:00:00\",\"2020-05-14T00:00:00\",\"2020-05-15T00:00:00\",\"2020-05-18T00:00:00\",\"2020-05-19T00:00:00\",\"2020-05-20T00:00:00\",\"2020-05-21T00:00:00\",\"2020-05-22T00:00:00\",\"2020-05-26T00:00:00\",\"2020-05-27T00:00:00\",\"2020-05-28T00:00:00\",\"2020-05-29T00:00:00\",\"2020-06-01T00:00:00\",\"2020-06-02T00:00:00\",\"2020-06-03T00:00:00\",\"2020-06-04T00:00:00\",\"2020-06-05T00:00:00\",\"2020-06-08T00:00:00\",\"2020-06-09T00:00:00\",\"2020-06-10T00:00:00\",\"2020-06-11T00:00:00\",\"2020-06-12T00:00:00\",\"2020-06-15T00:00:00\",\"2020-06-16T00:00:00\",\"2020-06-17T00:00:00\",\"2020-06-18T00:00:00\",\"2020-06-19T00:00:00\",\"2020-06-22T00:00:00\",\"2020-06-23T00:00:00\",\"2020-06-24T00:00:00\",\"2020-06-25T00:00:00\",\"2020-06-26T00:00:00\",\"2020-06-29T00:00:00\",\"2020-06-30T00:00:00\",\"2020-07-01T00:00:00\",\"2020-07-02T00:00:00\",\"2020-07-06T00:00:00\",\"2020-07-07T00:00:00\",\"2020-07-08T00:00:00\",\"2020-07-09T00:00:00\",\"2020-07-10T00:00:00\",\"2020-07-13T00:00:00\",\"2020-07-14T00:00:00\",\"2020-07-15T00:00:00\",\"2020-07-16T00:00:00\",\"2020-07-17T00:00:00\",\"2020-07-20T00:00:00\",\"2020-07-21T00:00:00\",\"2020-07-22T00:00:00\",\"2020-07-23T00:00:00\",\"2020-07-24T00:00:00\",\"2020-07-27T00:00:00\",\"2020-07-28T00:00:00\",\"2020-07-29T00:00:00\",\"2020-07-30T00:00:00\",\"2020-07-31T00:00:00\",\"2020-08-03T00:00:00\",\"2020-08-04T00:00:00\",\"2020-08-05T00:00:00\",\"2020-08-06T00:00:00\",\"2020-08-07T00:00:00\",\"2020-08-10T00:00:00\",\"2020-08-11T00:00:00\",\"2020-08-12T00:00:00\",\"2020-08-13T00:00:00\",\"2020-08-14T00:00:00\",\"2020-08-17T00:00:00\",\"2020-08-18T00:00:00\",\"2020-08-19T00:00:00\",\"2020-08-20T00:00:00\",\"2020-08-21T00:00:00\",\"2020-08-24T00:00:00\",\"2020-08-25T00:00:00\",\"2020-08-26T00:00:00\",\"2020-08-27T00:00:00\",\"2020-08-28T00:00:00\",\"2020-08-31T00:00:00\",\"2020-09-01T00:00:00\",\"2020-09-02T00:00:00\",\"2020-09-03T00:00:00\",\"2020-09-04T00:00:00\",\"2020-09-08T00:00:00\",\"2020-09-09T00:00:00\",\"2020-09-10T00:00:00\",\"2020-09-11T00:00:00\",\"2020-09-14T00:00:00\",\"2020-09-15T00:00:00\",\"2020-09-16T00:00:00\",\"2020-09-17T00:00:00\",\"2020-09-18T00:00:00\",\"2020-09-21T00:00:00\",\"2020-09-22T00:00:00\",\"2020-09-23T00:00:00\",\"2020-09-24T00:00:00\",\"2020-09-25T00:00:00\",\"2020-09-28T00:00:00\",\"2020-09-29T00:00:00\",\"2020-09-30T00:00:00\",\"2020-10-01T00:00:00\",\"2020-10-02T00:00:00\",\"2020-10-05T00:00:00\",\"2020-10-06T00:00:00\",\"2020-10-07T00:00:00\",\"2020-10-08T00:00:00\",\"2020-10-09T00:00:00\",\"2020-10-12T00:00:00\",\"2020-10-13T00:00:00\",\"2020-10-14T00:00:00\",\"2020-10-15T00:00:00\",\"2020-10-16T00:00:00\",\"2020-10-19T00:00:00\",\"2020-10-20T00:00:00\",\"2020-10-21T00:00:00\",\"2020-10-22T00:00:00\",\"2020-10-23T00:00:00\",\"2020-10-26T00:00:00\",\"2020-10-27T00:00:00\",\"2020-10-28T00:00:00\",\"2020-10-29T00:00:00\",\"2020-10-30T00:00:00\",\"2020-11-02T00:00:00\",\"2020-11-03T00:00:00\",\"2020-11-04T00:00:00\",\"2020-11-05T00:00:00\",\"2020-11-06T00:00:00\",\"2020-11-09T00:00:00\",\"2020-11-10T00:00:00\",\"2020-11-11T00:00:00\",\"2020-11-12T00:00:00\",\"2020-11-13T00:00:00\",\"2020-11-16T00:00:00\",\"2020-11-17T00:00:00\",\"2020-11-18T00:00:00\",\"2020-11-19T00:00:00\",\"2020-11-20T00:00:00\",\"2020-11-23T00:00:00\",\"2020-11-24T00:00:00\",\"2020-11-25T00:00:00\",\"2020-11-27T00:00:00\",\"2020-11-30T00:00:00\",\"2020-12-01T00:00:00\",\"2020-12-02T00:00:00\",\"2020-12-03T00:00:00\",\"2020-12-04T00:00:00\",\"2020-12-07T00:00:00\",\"2020-12-08T00:00:00\",\"2020-12-09T00:00:00\",\"2020-12-10T00:00:00\",\"2020-12-11T00:00:00\",\"2020-12-14T00:00:00\",\"2020-12-15T00:00:00\",\"2020-12-16T00:00:00\",\"2020-12-17T00:00:00\",\"2020-12-18T00:00:00\",\"2020-12-21T00:00:00\",\"2020-12-22T00:00:00\",\"2020-12-23T00:00:00\",\"2020-12-24T00:00:00\",\"2020-12-28T00:00:00\",\"2020-12-29T00:00:00\",\"2020-12-30T00:00:00\",\"2020-12-31T00:00:00\",\"2021-01-04T00:00:00\",\"2021-01-05T00:00:00\",\"2021-01-06T00:00:00\",\"2021-01-07T00:00:00\",\"2021-01-08T00:00:00\",\"2021-01-11T00:00:00\",\"2021-01-12T00:00:00\",\"2021-01-13T00:00:00\",\"2021-01-14T00:00:00\",\"2021-01-15T00:00:00\",\"2021-01-19T00:00:00\",\"2021-01-20T00:00:00\",\"2021-01-21T00:00:00\",\"2021-01-22T00:00:00\",\"2021-01-25T00:00:00\",\"2021-01-26T00:00:00\",\"2021-01-27T00:00:00\",\"2021-01-28T00:00:00\",\"2021-01-29T00:00:00\",\"2021-02-01T00:00:00\",\"2021-02-02T00:00:00\",\"2021-02-03T00:00:00\",\"2021-02-04T00:00:00\",\"2021-02-05T00:00:00\",\"2021-02-08T00:00:00\",\"2021-02-09T00:00:00\",\"2021-02-10T00:00:00\",\"2021-02-11T00:00:00\",\"2021-02-12T00:00:00\",\"2021-02-16T00:00:00\",\"2021-02-17T00:00:00\",\"2021-02-18T00:00:00\",\"2021-02-19T00:00:00\",\"2021-02-22T00:00:00\",\"2021-02-23T00:00:00\",\"2021-02-24T00:00:00\",\"2021-02-25T00:00:00\",\"2021-02-26T00:00:00\",\"2021-03-01T00:00:00\",\"2021-03-02T00:00:00\",\"2021-03-03T00:00:00\",\"2021-03-04T00:00:00\",\"2021-03-05T00:00:00\",\"2021-03-08T00:00:00\",\"2021-03-09T00:00:00\",\"2021-03-10T00:00:00\",\"2021-03-11T00:00:00\",\"2021-03-12T00:00:00\",\"2021-03-15T00:00:00\",\"2021-03-16T00:00:00\",\"2021-03-17T00:00:00\",\"2021-03-18T00:00:00\",\"2021-03-19T00:00:00\",\"2021-03-22T00:00:00\",\"2021-03-23T00:00:00\",\"2021-03-24T00:00:00\",\"2021-03-25T00:00:00\",\"2021-03-26T00:00:00\",\"2021-03-29T00:00:00\",\"2021-03-30T00:00:00\",\"2021-03-31T00:00:00\",\"2021-04-01T00:00:00\",\"2021-04-05T00:00:00\",\"2021-04-06T00:00:00\",\"2021-04-07T00:00:00\",\"2021-04-08T00:00:00\",\"2021-04-09T00:00:00\",\"2021-04-12T00:00:00\",\"2021-04-13T00:00:00\",\"2021-04-14T00:00:00\",\"2021-04-15T00:00:00\",\"2021-04-16T00:00:00\",\"2021-04-19T00:00:00\",\"2021-04-20T00:00:00\",\"2021-04-21T00:00:00\",\"2021-04-22T00:00:00\",\"2021-04-23T00:00:00\",\"2021-04-26T00:00:00\",\"2021-04-27T00:00:00\",\"2021-04-28T00:00:00\",\"2021-04-29T00:00:00\",\"2021-04-30T00:00:00\",\"2021-05-03T00:00:00\",\"2021-05-04T00:00:00\",\"2021-05-05T00:00:00\",\"2021-05-06T00:00:00\",\"2021-05-07T00:00:00\",\"2021-05-10T00:00:00\",\"2021-05-11T00:00:00\",\"2021-05-12T00:00:00\",\"2021-05-13T00:00:00\",\"2021-05-14T00:00:00\",\"2021-05-17T00:00:00\",\"2021-05-18T00:00:00\",\"2021-05-19T00:00:00\",\"2021-05-20T00:00:00\",\"2021-05-21T00:00:00\",\"2021-05-24T00:00:00\",\"2021-05-25T00:00:00\",\"2021-05-26T00:00:00\",\"2021-05-27T00:00:00\",\"2021-05-28T00:00:00\",\"2021-06-01T00:00:00\",\"2021-06-02T00:00:00\",\"2021-06-03T00:00:00\",\"2021-06-04T00:00:00\",\"2021-06-07T00:00:00\",\"2021-06-08T00:00:00\",\"2021-06-09T00:00:00\",\"2021-06-10T00:00:00\",\"2021-06-11T00:00:00\",\"2021-06-14T00:00:00\",\"2021-06-15T00:00:00\",\"2021-06-16T00:00:00\",\"2021-06-17T00:00:00\",\"2021-06-18T00:00:00\",\"2021-06-21T00:00:00\",\"2021-06-22T00:00:00\",\"2021-06-23T00:00:00\",\"2021-06-24T00:00:00\",\"2021-06-25T00:00:00\",\"2021-06-28T00:00:00\",\"2021-06-29T00:00:00\",\"2021-06-30T00:00:00\",\"2021-07-01T00:00:00\",\"2021-07-02T00:00:00\",\"2021-07-06T00:00:00\",\"2021-07-07T00:00:00\",\"2021-07-08T00:00:00\",\"2021-07-09T00:00:00\",\"2021-07-12T00:00:00\",\"2021-07-13T00:00:00\",\"2021-07-14T00:00:00\",\"2021-07-15T00:00:00\",\"2021-07-16T00:00:00\",\"2021-07-19T00:00:00\",\"2021-07-20T00:00:00\",\"2021-07-21T00:00:00\",\"2021-07-22T00:00:00\",\"2021-07-23T00:00:00\",\"2021-07-26T00:00:00\",\"2021-07-27T00:00:00\",\"2021-07-28T00:00:00\",\"2021-07-29T00:00:00\",\"2021-07-30T00:00:00\",\"2021-08-02T00:00:00\",\"2021-08-03T00:00:00\",\"2021-08-04T00:00:00\",\"2021-08-05T00:00:00\",\"2021-08-06T00:00:00\",\"2021-08-09T00:00:00\",\"2021-08-10T00:00:00\",\"2021-08-11T00:00:00\",\"2021-08-12T00:00:00\",\"2021-08-13T00:00:00\",\"2021-08-16T00:00:00\",\"2021-08-17T00:00:00\",\"2021-08-18T00:00:00\",\"2021-08-19T00:00:00\",\"2021-08-20T00:00:00\",\"2021-08-23T00:00:00\",\"2021-08-24T00:00:00\",\"2021-08-25T00:00:00\",\"2021-08-26T00:00:00\",\"2021-08-27T00:00:00\",\"2021-08-30T00:00:00\",\"2021-08-31T00:00:00\",\"2021-09-01T00:00:00\",\"2021-09-02T00:00:00\",\"2021-09-03T00:00:00\",\"2021-09-07T00:00:00\",\"2021-09-08T00:00:00\",\"2021-09-09T00:00:00\",\"2021-09-10T00:00:00\",\"2021-09-13T00:00:00\",\"2021-09-14T00:00:00\",\"2021-09-15T00:00:00\",\"2021-09-16T00:00:00\",\"2021-09-17T00:00:00\",\"2021-09-20T00:00:00\",\"2021-09-21T00:00:00\",\"2021-09-22T00:00:00\",\"2021-09-23T00:00:00\",\"2021-09-24T00:00:00\",\"2021-09-27T00:00:00\",\"2021-09-28T00:00:00\",\"2021-09-29T00:00:00\",\"2021-09-30T00:00:00\",\"2021-10-01T00:00:00\",\"2021-10-04T00:00:00\",\"2021-10-05T00:00:00\",\"2021-10-06T00:00:00\",\"2021-10-07T00:00:00\",\"2021-10-08T00:00:00\",\"2021-10-11T00:00:00\",\"2021-10-12T00:00:00\",\"2021-10-13T00:00:00\",\"2021-10-14T00:00:00\",\"2021-10-15T00:00:00\",\"2021-10-18T00:00:00\",\"2021-10-19T00:00:00\",\"2021-10-20T00:00:00\",\"2021-10-21T00:00:00\",\"2021-10-22T00:00:00\",\"2021-10-25T00:00:00\",\"2021-10-26T00:00:00\",\"2021-10-27T00:00:00\",\"2021-10-28T00:00:00\",\"2021-10-29T00:00:00\",\"2021-11-01T00:00:00\",\"2021-11-02T00:00:00\",\"2021-11-03T00:00:00\",\"2021-11-04T00:00:00\",\"2021-11-05T00:00:00\",\"2021-11-08T00:00:00\",\"2021-11-09T00:00:00\",\"2021-11-10T00:00:00\",\"2021-11-11T00:00:00\",\"2021-11-12T00:00:00\",\"2021-11-15T00:00:00\",\"2021-11-16T00:00:00\",\"2021-11-17T00:00:00\",\"2021-11-18T00:00:00\",\"2021-11-19T00:00:00\",\"2021-11-22T00:00:00\",\"2021-11-23T00:00:00\",\"2021-11-24T00:00:00\",\"2021-11-26T00:00:00\",\"2021-11-29T00:00:00\",\"2021-11-30T00:00:00\",\"2021-12-01T00:00:00\",\"2021-12-02T00:00:00\",\"2021-12-03T00:00:00\",\"2021-12-06T00:00:00\",\"2021-12-07T00:00:00\",\"2021-12-08T00:00:00\",\"2021-12-09T00:00:00\",\"2021-12-10T00:00:00\",\"2021-12-13T00:00:00\",\"2021-12-14T00:00:00\",\"2021-12-15T00:00:00\",\"2021-12-16T00:00:00\",\"2021-12-17T00:00:00\",\"2021-12-20T00:00:00\",\"2021-12-21T00:00:00\",\"2021-12-22T00:00:00\",\"2021-12-23T00:00:00\",\"2021-12-27T00:00:00\",\"2021-12-28T00:00:00\",\"2021-12-29T00:00:00\",\"2021-12-30T00:00:00\",\"2021-12-31T00:00:00\",\"2022-01-03T00:00:00\",\"2022-01-04T00:00:00\",\"2022-01-05T00:00:00\",\"2022-01-06T00:00:00\",\"2022-01-07T00:00:00\",\"2022-01-10T00:00:00\",\"2022-01-11T00:00:00\",\"2022-01-12T00:00:00\",\"2022-01-13T00:00:00\",\"2022-01-14T00:00:00\",\"2022-01-18T00:00:00\",\"2022-01-19T00:00:00\",\"2022-01-20T00:00:00\",\"2022-01-21T00:00:00\",\"2022-01-24T00:00:00\",\"2022-01-25T00:00:00\",\"2022-01-26T00:00:00\",\"2022-01-27T00:00:00\",\"2022-01-28T00:00:00\",\"2022-01-31T00:00:00\",\"2022-02-01T00:00:00\",\"2022-02-02T00:00:00\",\"2022-02-03T00:00:00\",\"2022-02-04T00:00:00\"],\"y\":[254.259995,265.720001,264.559998,250.100006,249.470001,257.950012,258.269989,266.0,280.269989,278.519989,278.549988,281.040009,278.140015,285.929993,294.160004,290.609985,291.380005,290.390015,301.049988,315.0,325.220001,321.160004,317.0,331.440002,321.299988,315.880005,321.549988,321.089996,318.450012,313.480011,317.5,316.480011,306.700012,300.940002,320.350006,300.690002,285.769989,295.350006,280.290009,283.670013,288.940002,293.970001,288.850006,289.929993,298.070007,303.670013,309.25,311.649994,307.779999,336.059998,334.519989,332.700012,327.769989,318.690002,307.019989,305.76001,313.980011,311.76001,312.459991,313.299988,313.359985,311.690002,320.089996,326.26001,326.890015,330.299988,329.600006,326.459991,328.529999,326.130005,328.190002,325.220001,324.179993,331.820007,331.619995,344.720001,349.290009,351.290009,349.730011,353.540009,351.600006,359.929993,361.809998,365.799988,367.450012,361.399994,360.570007,361.450012,363.829987,379.929993,392.869995,391.980011,390.399994,404.980011,416.76001,415.440002,411.089996,384.480011,399.390015,390.390015,395.420013,391.429993,398.179993,390.519989,398.390015,408.25,418.970001,415.630005,418.649994,413.5,395.799988,400.480011,379.480011,375.130005,364.230011,361.049988,362.660004,357.320007,362.869995,363.089996,355.209991,334.959991,337.450012,338.380005,344.5,343.089996,350.920013,351.829987,347.609985,349.359985,345.869995,341.309998,337.48999,326.399994,322.440002,316.779999,327.730011,338.019989,344.440002,339.170013,358.820007,364.579987,368.48999,368.040009,370.980011,367.679993,363.600006,341.179993,346.459991,348.679993,348.410004,355.929993,369.950012,368.149994,364.559998,350.350006,367.649994,366.959991,365.359985,361.190002,369.609985,369.429993,377.880005,380.709991,374.130005,381.429993,377.140015,377.049988,363.649994,351.350006,349.100006,355.709991,325.890015,321.100006,339.559998,333.130005,346.399994,364.700012,346.709991,332.670013,329.540009,333.160004,301.829987,312.869995,299.829987,284.839996,285.809998,301.779999,317.380005,309.100006,315.440002,310.839996,327.5,317.920013,303.470001,294.070007,294.399994,286.730011,290.059998,286.209991,270.600006,266.980011,262.130005,258.820007,261.429993,266.630005,282.649994,288.75,286.130005,290.299988,275.329987,282.880005,265.140015,269.700012,265.320007,274.880005,276.019989,266.839996,262.799988,270.940002,266.769989,260.579987,246.389999,233.880005,253.669998,255.570007,256.079987,267.660004,267.660004,271.200012,297.570007,315.339996,320.269989,319.959991,324.660004,337.589996,332.940002,354.640015,351.390015,353.190002,339.100006,325.160004,321.98999,326.670013,338.049988,335.660004,328.899994,340.660004,339.5,339.850006,351.339996,355.809998,352.190002,344.709991,347.570007,345.730011,359.970001,351.769989,359.070007,356.869995,361.920013,359.910004,356.970001,363.019989,363.910004,364.970001,362.869995,358.100006,357.320007,351.040009,354.299988,359.609985,352.600006,349.600006,358.859985,356.269989,361.209991,358.820007,361.459991,363.440002,358.779999,375.220001,377.869995,361.01001,366.230011,359.970001,353.369995,354.609985,356.559998,366.959991,367.720001,369.75,367.880005,365.48999,361.410004,364.709991,363.920013,367.649994,351.140015,348.869995,359.459991,354.73999,360.350006,377.339996,381.890015,374.230011,368.329987,374.850006,371.829987,370.540009,378.809998,379.059998,385.029999,378.670013,370.459991,364.369995,362.75,361.040009,345.26001,345.609985,354.98999,359.309998,354.450012,348.109985,354.269989,359.730011,352.209991,354.390015,355.059998,349.190002,351.850006,343.279999,336.630005,353.399994,355.730011,357.130005,360.869995,352.01001,351.269989,345.559998,343.429993,339.730011,350.619995,357.119995,363.519989,365.209991,369.209991,371.040009,360.299988,362.200012,370.019989,367.320007,374.600006,375.429993,381.720001,380.549988,376.160004,379.929993,381.0,379.5,373.25,366.600006,365.98999,362.440002,325.209991,315.100006,310.619995,307.299988,317.940002,326.459991,335.779999,332.700012,325.929993,322.98999,319.5,318.829987,307.630005,310.100006,304.290009,315.899994,308.929993,310.829987,312.279999,299.109985,295.76001,302.799988,309.380005,298.98999,297.809998,296.929993,291.440002,294.980011,291.029999,291.769989,296.779999,293.75,289.290009,291.519989,293.25,290.170013,294.339996,287.98999,288.269989,288.859985,294.149994,294.290009,298.600006,291.559998,286.600006,270.75,265.920013,254.589996,264.75,263.309998,263.079987,267.619995,269.579987,268.029999,268.149994,272.790009,274.459991,270.720001,267.529999,280.480011,282.929993,285.529999,284.25,286.279999,293.350006,275.299988,278.049988,266.690002,271.269989,271.5,276.820007,281.859985,281.209991,291.450012,287.410004,286.809998,292.859985,288.029999,288.589996,289.570007,291.570007,294.179993,292.01001,283.109985,289.619995,295.029999,302.570007,302.600006,305.160004,311.690002,310.480011,315.549988,312.48999,315.929993,314.660004,309.98999,306.160004,304.320007,302.859985,307.350006,302.5,293.119995,298.929993,298.440002,298.5,304.209991,315.480011,320.799988,332.220001,336.899994,333.100006,333.200012,332.630005,329.089996,323.309998,323.570007,329.809998,325.899994,335.829987,330.75,339.26001,335.660004,329.049988,338.920013,338.690002,339.070007,338.619995,339.670013,338.109985,326.0,349.600006,353.160004,342.880005,348.519989,343.160004,347.73999,345.089996,358.0,369.01001,369.670013,366.950012,366.769989,371.070007,373.690002,380.01001,381.399994,380.399994,387.779999,386.190002,386.0,380.070007,368.700012,360.089996,379.23999,371.709991,369.029999,381.049988,368.769989,383.790009,372.779999,368.970001,346.48999,364.130005,349.920013,315.25,336.299988,298.839996,319.75,315.470001,332.029999,332.829987,360.269989,357.320007,342.390015,362.98999,357.119995,370.959991,375.5,364.079987,370.079987,361.76001,379.959991,372.279999,371.119995,370.720001,396.720001,413.549988,426.75,439.170013,422.959991,437.48999,433.829987,421.420013,426.700012,424.98999,421.380005,403.829987,411.890015,419.850006,415.269989,428.149994,424.679993,434.26001,436.529999,435.549988,440.519989,431.820007,438.269989,441.950012,454.190002,452.579987,451.040009,447.670013,436.25,429.320007,414.769989,419.890015,413.440002,419.730011,425.920013,427.309998,421.970001,414.329987,419.600006,419.48999,434.049988,434.480011,425.559998,418.070007,425.5,436.130005,447.769989,449.869995,453.720001,468.040009,466.26001,457.850006,465.910004,443.399994,447.23999,455.040009,485.640015,476.890015,493.809998,493.160004,502.779999,507.76001,548.72998,525.5,524.880005,523.26001,527.390015,492.98999,502.410004,490.100006,489.820007,477.579987,480.450012,495.649994,488.51001,484.480011,485.799988,488.880005,498.619995,509.640015,502.109985,509.079987,494.730011,483.380005,466.929993,475.470001,481.329987,482.679993,482.350006,491.869995,484.529999,497.899994,492.309998,488.809998,490.579987,547.530029,526.27002,523.890015,529.559998,556.549988,552.840027,525.75,516.049988,507.019989,500.190002,480.670013,482.029999,476.26001,495.98999,483.859985,470.200012,469.959991,487.350006,491.170013,470.609985,473.079987,482.880005,490.649994,493.480011,500.029999,527.51001,503.059998,520.650024,505.869995,534.659973,531.789978,539.440002,539.809998,554.090027,541.450012,541.940002,530.789978,530.719971,525.419983,489.049988,485.230011,488.279999,488.23999,488.929993,486.23999,504.209991,475.73999,484.119995,487.220001,496.950012,513.76001,514.72998,470.5,480.23999,490.76001,486.769989,482.839996,479.100006,480.630005,481.790009,484.670013,488.23999,476.619995,482.880005,485.0,491.359985,490.700012,504.579987,503.380005,497.519989,498.309998,515.780029,512.659973,493.600006,501.089996,503.220001,522.419983,519.780029,524.830017,532.900024,534.450012,528.909973,527.330017,514.47998,513.969971,519.119995,530.869995,524.590027,540.72998,522.859985,520.799988,500.48999,508.890015,510.399994,499.100006,494.25,507.790009,500.859985,497.980011,501.769989,586.340027,579.840027,565.169983,556.780029,561.929993,523.280029,538.599976,532.390015,539.039978,548.159973,539.450012,552.159973,550.789978,547.919983,559.070007,563.590027,557.590027,556.52002,557.280029,551.340027,548.219971,540.219971,533.780029,546.150024,553.409973,546.700012,538.849976,550.640015,547.820007,520.700012,511.290009,516.390015,493.329987,506.440002,504.540009,523.059998,518.02002,520.25,524.030029,524.440002,504.790009,512.179993,523.109985,535.090027,520.809998,502.859985,508.049988,513.950012,513.390015,521.659973,539.419983,540.669983,544.530029,546.98999,554.580017,555.309998,552.780029,553.72998,540.02002,549.219971,546.539978,554.440002,549.570007,508.899994,508.779999,505.549988,510.299988,505.549988,506.519989,509.0,513.469971,509.109985,503.179993,496.079987,499.549988,503.839996,486.690002,495.079987,484.980011,486.660004,493.369995,488.940002,486.279999,487.700012,501.670013,497.890015,502.899994,501.339996,502.359985,503.859985,502.809998,499.079987,499.23999,489.429993,494.73999,494.660004,492.390015,485.809998,487.269989,488.769989,499.890015,491.899994,492.410004,498.339996,500.769989,497.0,508.820007,512.73999,518.059998,527.070007,533.030029,533.5,528.210022,533.539978,533.97998,541.640015,535.960022,530.76001,535.97998,537.309998,540.679993,547.950012,542.950012,530.309998,532.280029,531.049988,513.630005,511.769989,515.409973,516.48999,518.909973,519.299988,514.25,517.570007,515.150024,510.820007,517.349976,524.890015,520.549988,519.969971,515.840027,512.400024,510.720001,515.919983,517.919983,518.909973,521.869995,543.710022,546.880005,553.330017,553.409973,547.580017,550.119995,558.919983,566.179993,569.190002,582.070007,588.549988,590.530029,606.710022,606.049988,597.539978,598.719971,589.289978,577.76001,582.869995,586.5,589.349976,575.429993,573.140015,590.650024,593.26001,592.390015,592.640015,583.849976,599.059998,610.340027,613.150024,603.349976,634.809998,639.099976,631.849976,632.659973,627.039978,624.940002,629.76001,633.799988,628.289978,637.969971,639.0,625.140015,653.159973,664.780029,671.659973,668.52002,662.919983,674.049988,690.309998,681.169983,677.719971,688.289978,668.400024,645.719971,651.450012,655.98999,646.909973,657.580017,682.609985,679.330017,687.400024,691.690002,682.02002,678.799988,659.200012,654.059998,658.289978,665.640015,663.840027,641.900024,617.77002,616.469971,602.130005,612.690002,625.580017,628.080017,611.0,611.659973,604.559998,597.98999,605.039978,591.059998,586.72998,593.73999,604.919983,614.23999,614.090027,613.119995,610.710022,610.539978,612.090027,602.440002,597.369995,591.150024,567.52002,553.289978,541.059998,539.849976,540.840027,537.219971,519.200012,525.690002,510.799988,515.859985,508.25,397.5,387.149994,366.420013,359.700012,386.700012,384.359985,427.140015,457.130005,429.480011,405.600006,410.170013],\"type\":\"scatter\"}],                        {\"template\":{\"data\":{\"barpolar\":[{\"marker\":{\"line\":{\"color\":\"#E5ECF6\",\"width\":0.5},\"pattern\":{\"fillmode\":\"overlay\",\"size\":10,\"solidity\":0.2}},\"type\":\"barpolar\"}],\"bar\":[{\"error_x\":{\"color\":\"#2a3f5f\"},\"error_y\":{\"color\":\"#2a3f5f\"},\"marker\":{\"line\":{\"color\":\"#E5ECF6\",\"width\":0.5},\"pattern\":{\"fillmode\":\"overlay\",\"size\":10,\"solidity\":0.2}},\"type\":\"bar\"}],\"carpet\":[{\"aaxis\":{\"endlinecolor\":\"#2a3f5f\",\"gridcolor\":\"white\",\"linecolor\":\"white\",\"minorgridcolor\":\"white\",\"startlinecolor\":\"#2a3f5f\"},\"baxis\":{\"endlinecolor\":\"#2a3f5f\",\"gridcolor\":\"white\",\"linecolor\":\"white\",\"minorgridcolor\":\"white\",\"startlinecolor\":\"#2a3f5f\"},\"type\":\"carpet\"}],\"choropleth\":[{\"colorbar\":{\"outlinewidth\":0,\"ticks\":\"\"},\"type\":\"choropleth\"}],\"contourcarpet\":[{\"colorbar\":{\"outlinewidth\":0,\"ticks\":\"\"},\"type\":\"contourcarpet\"}],\"contour\":[{\"colorbar\":{\"outlinewidth\":0,\"ticks\":\"\"},\"colorscale\":[[0.0,\"#0d0887\"],[0.1111111111111111,\"#46039f\"],[0.2222222222222222,\"#7201a8\"],[0.3333333333333333,\"#9c179e\"],[0.4444444444444444,\"#bd3786\"],[0.5555555555555556,\"#d8576b\"],[0.6666666666666666,\"#ed7953\"],[0.7777777777777778,\"#fb9f3a\"],[0.8888888888888888,\"#fdca26\"],[1.0,\"#f0f921\"]],\"type\":\"contour\"}],\"heatmapgl\":[{\"colorbar\":{\"outlinewidth\":0,\"ticks\":\"\"},\"colorscale\":[[0.0,\"#0d0887\"],[0.1111111111111111,\"#46039f\"],[0.2222222222222222,\"#7201a8\"],[0.3333333333333333,\"#9c179e\"],[0.4444444444444444,\"#bd3786\"],[0.5555555555555556,\"#d8576b\"],[0.6666666666666666,\"#ed7953\"],[0.7777777777777778,\"#fb9f3a\"],[0.8888888888888888,\"#fdca26\"],[1.0,\"#f0f921\"]],\"type\":\"heatmapgl\"}],\"heatmap\":[{\"colorbar\":{\"outlinewidth\":0,\"ticks\":\"\"},\"colorscale\":[[0.0,\"#0d0887\"],[0.1111111111111111,\"#46039f\"],[0.2222222222222222,\"#7201a8\"],[0.3333333333333333,\"#9c179e\"],[0.4444444444444444,\"#bd3786\"],[0.5555555555555556,\"#d8576b\"],[0.6666666666666666,\"#ed7953\"],[0.7777777777777778,\"#fb9f3a\"],[0.8888888888888888,\"#fdca26\"],[1.0,\"#f0f921\"]],\"type\":\"heatmap\"}],\"histogram2dcontour\":[{\"colorbar\":{\"outlinewidth\":0,\"ticks\":\"\"},\"colorscale\":[[0.0,\"#0d0887\"],[0.1111111111111111,\"#46039f\"],[0.2222222222222222,\"#7201a8\"],[0.3333333333333333,\"#9c179e\"],[0.4444444444444444,\"#bd3786\"],[0.5555555555555556,\"#d8576b\"],[0.6666666666666666,\"#ed7953\"],[0.7777777777777778,\"#fb9f3a\"],[0.8888888888888888,\"#fdca26\"],[1.0,\"#f0f921\"]],\"type\":\"histogram2dcontour\"}],\"histogram2d\":[{\"colorbar\":{\"outlinewidth\":0,\"ticks\":\"\"},\"colorscale\":[[0.0,\"#0d0887\"],[0.1111111111111111,\"#46039f\"],[0.2222222222222222,\"#7201a8\"],[0.3333333333333333,\"#9c179e\"],[0.4444444444444444,\"#bd3786\"],[0.5555555555555556,\"#d8576b\"],[0.6666666666666666,\"#ed7953\"],[0.7777777777777778,\"#fb9f3a\"],[0.8888888888888888,\"#fdca26\"],[1.0,\"#f0f921\"]],\"type\":\"histogram2d\"}],\"histogram\":[{\"marker\":{\"pattern\":{\"fillmode\":\"overlay\",\"size\":10,\"solidity\":0.2}},\"type\":\"histogram\"}],\"mesh3d\":[{\"colorbar\":{\"outlinewidth\":0,\"ticks\":\"\"},\"type\":\"mesh3d\"}],\"parcoords\":[{\"line\":{\"colorbar\":{\"outlinewidth\":0,\"ticks\":\"\"}},\"type\":\"parcoords\"}],\"pie\":[{\"automargin\":true,\"type\":\"pie\"}],\"scatter3d\":[{\"line\":{\"colorbar\":{\"outlinewidth\":0,\"ticks\":\"\"}},\"marker\":{\"colorbar\":{\"outlinewidth\":0,\"ticks\":\"\"}},\"type\":\"scatter3d\"}],\"scattercarpet\":[{\"marker\":{\"colorbar\":{\"outlinewidth\":0,\"ticks\":\"\"}},\"type\":\"scattercarpet\"}],\"scattergeo\":[{\"marker\":{\"colorbar\":{\"outlinewidth\":0,\"ticks\":\"\"}},\"type\":\"scattergeo\"}],\"scattergl\":[{\"marker\":{\"colorbar\":{\"outlinewidth\":0,\"ticks\":\"\"}},\"type\":\"scattergl\"}],\"scattermapbox\":[{\"marker\":{\"colorbar\":{\"outlinewidth\":0,\"ticks\":\"\"}},\"type\":\"scattermapbox\"}],\"scatterpolargl\":[{\"marker\":{\"colorbar\":{\"outlinewidth\":0,\"ticks\":\"\"}},\"type\":\"scatterpolargl\"}],\"scatterpolar\":[{\"marker\":{\"colorbar\":{\"outlinewidth\":0,\"ticks\":\"\"}},\"type\":\"scatterpolar\"}],\"scatter\":[{\"fillpattern\":{\"fillmode\":\"overlay\",\"size\":10,\"solidity\":0.2},\"type\":\"scatter\"}],\"scatterternary\":[{\"marker\":{\"colorbar\":{\"outlinewidth\":0,\"ticks\":\"\"}},\"type\":\"scatterternary\"}],\"surface\":[{\"colorbar\":{\"outlinewidth\":0,\"ticks\":\"\"},\"colorscale\":[[0.0,\"#0d0887\"],[0.1111111111111111,\"#46039f\"],[0.2222222222222222,\"#7201a8\"],[0.3333333333333333,\"#9c179e\"],[0.4444444444444444,\"#bd3786\"],[0.5555555555555556,\"#d8576b\"],[0.6666666666666666,\"#ed7953\"],[0.7777777777777778,\"#fb9f3a\"],[0.8888888888888888,\"#fdca26\"],[1.0,\"#f0f921\"]],\"type\":\"surface\"}],\"table\":[{\"cells\":{\"fill\":{\"color\":\"#EBF0F8\"},\"line\":{\"color\":\"white\"}},\"header\":{\"fill\":{\"color\":\"#C8D4E3\"},\"line\":{\"color\":\"white\"}},\"type\":\"table\"}]},\"layout\":{\"annotationdefaults\":{\"arrowcolor\":\"#2a3f5f\",\"arrowhead\":0,\"arrowwidth\":1},\"autotypenumbers\":\"strict\",\"coloraxis\":{\"colorbar\":{\"outlinewidth\":0,\"ticks\":\"\"}},\"colorscale\":{\"diverging\":[[0,\"#8e0152\"],[0.1,\"#c51b7d\"],[0.2,\"#de77ae\"],[0.3,\"#f1b6da\"],[0.4,\"#fde0ef\"],[0.5,\"#f7f7f7\"],[0.6,\"#e6f5d0\"],[0.7,\"#b8e186\"],[0.8,\"#7fbc41\"],[0.9,\"#4d9221\"],[1,\"#276419\"]],\"sequential\":[[0.0,\"#0d0887\"],[0.1111111111111111,\"#46039f\"],[0.2222222222222222,\"#7201a8\"],[0.3333333333333333,\"#9c179e\"],[0.4444444444444444,\"#bd3786\"],[0.5555555555555556,\"#d8576b\"],[0.6666666666666666,\"#ed7953\"],[0.7777777777777778,\"#fb9f3a\"],[0.8888888888888888,\"#fdca26\"],[1.0,\"#f0f921\"]],\"sequentialminus\":[[0.0,\"#0d0887\"],[0.1111111111111111,\"#46039f\"],[0.2222222222222222,\"#7201a8\"],[0.3333333333333333,\"#9c179e\"],[0.4444444444444444,\"#bd3786\"],[0.5555555555555556,\"#d8576b\"],[0.6666666666666666,\"#ed7953\"],[0.7777777777777778,\"#fb9f3a\"],[0.8888888888888888,\"#fdca26\"],[1.0,\"#f0f921\"]]},\"colorway\":[\"#636efa\",\"#EF553B\",\"#00cc96\",\"#ab63fa\",\"#FFA15A\",\"#19d3f3\",\"#FF6692\",\"#B6E880\",\"#FF97FF\",\"#FECB52\"],\"font\":{\"color\":\"#2a3f5f\"},\"geo\":{\"bgcolor\":\"white\",\"lakecolor\":\"white\",\"landcolor\":\"#E5ECF6\",\"showlakes\":true,\"showland\":true,\"subunitcolor\":\"white\"},\"hoverlabel\":{\"align\":\"left\"},\"hovermode\":\"closest\",\"mapbox\":{\"style\":\"light\"},\"paper_bgcolor\":\"white\",\"plot_bgcolor\":\"#E5ECF6\",\"polar\":{\"angularaxis\":{\"gridcolor\":\"white\",\"linecolor\":\"white\",\"ticks\":\"\"},\"bgcolor\":\"#E5ECF6\",\"radialaxis\":{\"gridcolor\":\"white\",\"linecolor\":\"white\",\"ticks\":\"\"}},\"scene\":{\"xaxis\":{\"backgroundcolor\":\"#E5ECF6\",\"gridcolor\":\"white\",\"gridwidth\":2,\"linecolor\":\"white\",\"showbackground\":true,\"ticks\":\"\",\"zerolinecolor\":\"white\"},\"yaxis\":{\"backgroundcolor\":\"#E5ECF6\",\"gridcolor\":\"white\",\"gridwidth\":2,\"linecolor\":\"white\",\"showbackground\":true,\"ticks\":\"\",\"zerolinecolor\":\"white\"},\"zaxis\":{\"backgroundcolor\":\"#E5ECF6\",\"gridcolor\":\"white\",\"gridwidth\":2,\"linecolor\":\"white\",\"showbackground\":true,\"ticks\":\"\",\"zerolinecolor\":\"white\"}},\"shapedefaults\":{\"line\":{\"color\":\"#2a3f5f\"}},\"ternary\":{\"aaxis\":{\"gridcolor\":\"white\",\"linecolor\":\"white\",\"ticks\":\"\"},\"baxis\":{\"gridcolor\":\"white\",\"linecolor\":\"white\",\"ticks\":\"\"},\"bgcolor\":\"#E5ECF6\",\"caxis\":{\"gridcolor\":\"white\",\"linecolor\":\"white\",\"ticks\":\"\"}},\"title\":{\"x\":0.05},\"xaxis\":{\"automargin\":true,\"gridcolor\":\"white\",\"linecolor\":\"white\",\"ticks\":\"\",\"title\":{\"standoff\":15},\"zerolinecolor\":\"white\",\"zerolinewidth\":2},\"yaxis\":{\"automargin\":true,\"gridcolor\":\"white\",\"linecolor\":\"white\",\"ticks\":\"\",\"title\":{\"standoff\":15},\"zerolinecolor\":\"white\",\"zerolinewidth\":2}}},\"title\":{\"text\":\"Stock Price\"},\"xaxis\":{\"title\":{\"text\":\"Date\"}},\"yaxis\":{\"title\":{\"text\":\"Price\"}}},                        {\"responsive\": true}                    ).then(function(){\n",
              "                            \n",
              "var gd = document.getElementById('da958f1d-c629-46dc-aa98-81ef7a062aa5');\n",
              "var x = new MutationObserver(function (mutations, observer) {{\n",
              "        var display = window.getComputedStyle(gd).display;\n",
              "        if (!display || display === 'none') {{\n",
              "            console.log([gd, 'removed!']);\n",
              "            Plotly.purge(gd);\n",
              "            observer.disconnect();\n",
              "        }}\n",
              "}});\n",
              "\n",
              "// Listen for the removal of the full notebook cells\n",
              "var notebookContainer = gd.closest('#notebook-container');\n",
              "if (notebookContainer) {{\n",
              "    x.observe(notebookContainer, {childList: true});\n",
              "}}\n",
              "\n",
              "// Listen for the clearing of the current output cell\n",
              "var outputEl = gd.closest('.output');\n",
              "if (outputEl) {{\n",
              "    x.observe(outputEl, {childList: true});\n",
              "}}\n",
              "\n",
              "                        })                };                            </script>        </div>\n",
              "</body>\n",
              "</html>"
            ]
          },
          "metadata": {}
        }
      ]
    },
    {
      "cell_type": "markdown",
      "source": [
        "##Splitting the dataset into the Training set and Test set"
      ],
      "metadata": {
        "id": "bGPpYzki8acl"
      }
    },
    {
      "cell_type": "code",
      "source": [
        "from sklearn.model_selection import train_test_split\n",
        "x=np.array(df.index).reshape(-1,1)\n",
        "y=df['Close']\n",
        "x_train,x_test,y_train,y_test = train_test_split(x,y,test_size=0.3,random_state=1)"
      ],
      "metadata": {
        "id": "IfZTjMdt6ANe"
      },
      "execution_count": 24,
      "outputs": []
    },
    {
      "cell_type": "markdown",
      "source": [
        "##Training the Linear Regression model on the Training set"
      ],
      "metadata": {
        "id": "phI3GAYA8cMn"
      }
    },
    {
      "cell_type": "code",
      "source": [
        "from sklearn.preprocessing import StandardScaler\n",
        "sc = StandardScaler()\n",
        "sc = sc.fit(x_train)\n",
        "from sklearn.linear_model import LinearRegression\n",
        "regressor = LinearRegression()\n",
        "regressor.fit(x_train, y_train)"
      ],
      "metadata": {
        "colab": {
          "base_uri": "https://localhost:8080/",
          "height": 74
        },
        "id": "1eNI0WmI6Et2",
        "outputId": "46e94a0f-c67b-407f-91fc-c95d73da2232"
      },
      "execution_count": 25,
      "outputs": [
        {
          "output_type": "execute_result",
          "data": {
            "text/plain": [
              "LinearRegression()"
            ],
            "text/html": [
              "<style>#sk-container-id-2 {color: black;background-color: white;}#sk-container-id-2 pre{padding: 0;}#sk-container-id-2 div.sk-toggleable {background-color: white;}#sk-container-id-2 label.sk-toggleable__label {cursor: pointer;display: block;width: 100%;margin-bottom: 0;padding: 0.3em;box-sizing: border-box;text-align: center;}#sk-container-id-2 label.sk-toggleable__label-arrow:before {content: \"▸\";float: left;margin-right: 0.25em;color: #696969;}#sk-container-id-2 label.sk-toggleable__label-arrow:hover:before {color: black;}#sk-container-id-2 div.sk-estimator:hover label.sk-toggleable__label-arrow:before {color: black;}#sk-container-id-2 div.sk-toggleable__content {max-height: 0;max-width: 0;overflow: hidden;text-align: left;background-color: #f0f8ff;}#sk-container-id-2 div.sk-toggleable__content pre {margin: 0.2em;color: black;border-radius: 0.25em;background-color: #f0f8ff;}#sk-container-id-2 input.sk-toggleable__control:checked~div.sk-toggleable__content {max-height: 200px;max-width: 100%;overflow: auto;}#sk-container-id-2 input.sk-toggleable__control:checked~label.sk-toggleable__label-arrow:before {content: \"▾\";}#sk-container-id-2 div.sk-estimator input.sk-toggleable__control:checked~label.sk-toggleable__label {background-color: #d4ebff;}#sk-container-id-2 div.sk-label input.sk-toggleable__control:checked~label.sk-toggleable__label {background-color: #d4ebff;}#sk-container-id-2 input.sk-hidden--visually {border: 0;clip: rect(1px 1px 1px 1px);clip: rect(1px, 1px, 1px, 1px);height: 1px;margin: -1px;overflow: hidden;padding: 0;position: absolute;width: 1px;}#sk-container-id-2 div.sk-estimator {font-family: monospace;background-color: #f0f8ff;border: 1px dotted black;border-radius: 0.25em;box-sizing: border-box;margin-bottom: 0.5em;}#sk-container-id-2 div.sk-estimator:hover {background-color: #d4ebff;}#sk-container-id-2 div.sk-parallel-item::after {content: \"\";width: 100%;border-bottom: 1px solid gray;flex-grow: 1;}#sk-container-id-2 div.sk-label:hover label.sk-toggleable__label {background-color: #d4ebff;}#sk-container-id-2 div.sk-serial::before {content: \"\";position: absolute;border-left: 1px solid gray;box-sizing: border-box;top: 0;bottom: 0;left: 50%;z-index: 0;}#sk-container-id-2 div.sk-serial {display: flex;flex-direction: column;align-items: center;background-color: white;padding-right: 0.2em;padding-left: 0.2em;position: relative;}#sk-container-id-2 div.sk-item {position: relative;z-index: 1;}#sk-container-id-2 div.sk-parallel {display: flex;align-items: stretch;justify-content: center;background-color: white;position: relative;}#sk-container-id-2 div.sk-item::before, #sk-container-id-2 div.sk-parallel-item::before {content: \"\";position: absolute;border-left: 1px solid gray;box-sizing: border-box;top: 0;bottom: 0;left: 50%;z-index: -1;}#sk-container-id-2 div.sk-parallel-item {display: flex;flex-direction: column;z-index: 1;position: relative;background-color: white;}#sk-container-id-2 div.sk-parallel-item:first-child::after {align-self: flex-end;width: 50%;}#sk-container-id-2 div.sk-parallel-item:last-child::after {align-self: flex-start;width: 50%;}#sk-container-id-2 div.sk-parallel-item:only-child::after {width: 0;}#sk-container-id-2 div.sk-dashed-wrapped {border: 1px dashed gray;margin: 0 0.4em 0.5em 0.4em;box-sizing: border-box;padding-bottom: 0.4em;background-color: white;}#sk-container-id-2 div.sk-label label {font-family: monospace;font-weight: bold;display: inline-block;line-height: 1.2em;}#sk-container-id-2 div.sk-label-container {text-align: center;}#sk-container-id-2 div.sk-container {/* jupyter's `normalize.less` sets `[hidden] { display: none; }` but bootstrap.min.css set `[hidden] { display: none !important; }` so we also need the `!important` here to be able to override the default hidden behavior on the sphinx rendered scikit-learn.org. See: https://github.com/scikit-learn/scikit-learn/issues/21755 */display: inline-block !important;position: relative;}#sk-container-id-2 div.sk-text-repr-fallback {display: none;}</style><div id=\"sk-container-id-2\" class=\"sk-top-container\"><div class=\"sk-text-repr-fallback\"><pre>LinearRegression()</pre><b>In a Jupyter environment, please rerun this cell to show the HTML representation or trust the notebook. <br />On GitHub, the HTML representation is unable to render, please try loading this page with nbviewer.org.</b></div><div class=\"sk-container\" hidden><div class=\"sk-item\"><div class=\"sk-estimator sk-toggleable\"><input class=\"sk-toggleable__control sk-hidden--visually\" id=\"sk-estimator-id-2\" type=\"checkbox\" checked><label for=\"sk-estimator-id-2\" class=\"sk-toggleable__label sk-toggleable__label-arrow\">LinearRegression</label><div class=\"sk-toggleable__content\"><pre>LinearRegression()</pre></div></div></div></div></div>"
            ]
          },
          "metadata": {},
          "execution_count": 25
        }
      ]
    },
    {
      "cell_type": "markdown",
      "source": [
        "##Visualising the Linear Regression results"
      ],
      "metadata": {
        "id": "DEgdl5xI8pRl"
      }
    },
    {
      "cell_type": "code",
      "source": [
        "import plotly.graph_objs as go\n",
        "from plotly.offline import iplot\n",
        "layout2 = go.Layout(title='Stock Price Actual vs Predicted Value',\n",
        "                   xaxis=dict(title='Date'),\n",
        "                   yaxis=dict(title='Price')\n",
        "                   )"
      ],
      "metadata": {
        "id": "r14fm1B_6I6W"
      },
      "execution_count": 26,
      "outputs": []
    },
    {
      "cell_type": "code",
      "source": [
        "trace0=go.Scatter(\n",
        "    x=x_train.T[0],\n",
        "    y=y_train,\n",
        "    mode='markers',\n",
        "    name='Actual'\n",
        ")\n",
        "trace1=go.Scatter(\n",
        "    x=x_train.T[0],\n",
        "    y=regressor.predict(x_train).T,\n",
        "    mode='lines',\n",
        "    name='Predicted'\n",
        ")\n",
        "df = [trace0,trace1]\n",
        "layout2.xaxis.title.text='Day'\n",
        "plot2=go.Figure(data=df,layout=layout2)\n",
        "iplot(plot2)"
      ],
      "metadata": {
        "colab": {
          "base_uri": "https://localhost:8080/",
          "height": 542
        },
        "id": "mdcBCBJl6Lc4",
        "outputId": "0304e01b-ef67-4438-d5be-98919ec3ef18"
      },
      "execution_count": 27,
      "outputs": [
        {
          "output_type": "display_data",
          "data": {
            "text/html": [
              "<html>\n",
              "<head><meta charset=\"utf-8\" /></head>\n",
              "<body>\n",
              "    <div>            <script src=\"https://cdnjs.cloudflare.com/ajax/libs/mathjax/2.7.5/MathJax.js?config=TeX-AMS-MML_SVG\"></script><script type=\"text/javascript\">if (window.MathJax && window.MathJax.Hub && window.MathJax.Hub.Config) {window.MathJax.Hub.Config({SVG: {font: \"STIX-Web\"}});}</script>                <script type=\"text/javascript\">window.PlotlyConfig = {MathJaxConfig: 'local'};</script>\n",
              "        <script src=\"https://cdn.plot.ly/plotly-2.18.2.min.js\"></script>                <div id=\"d1204914-4c59-48ae-9b2e-e29c2d50a5b6\" class=\"plotly-graph-div\" style=\"height:525px; width:100%;\"></div>            <script type=\"text/javascript\">                                    window.PLOTLYENV=window.PLOTLYENV || {};                                    if (document.getElementById(\"d1204914-4c59-48ae-9b2e-e29c2d50a5b6\")) {                    Plotly.newPlot(                        \"d1204914-4c59-48ae-9b2e-e29c2d50a5b6\",                        [{\"mode\":\"markers\",\"name\":\"Actual\",\"x\":[443,677,647,812,745,613,307,853,134,33,772,354,57,781,810,800,894,525,318,291,46,277,860,935,224,537,280,608,0,453,764,507,66,415,439,414,578,554,294,364,1003,245,257,161,730,612,678,869,863,649,247,872,239,220,837,92,114,543,988,76,990,474,969,132,528,372,58,289,246,551,880,40,89,192,434,68,711,436,382,139,541,482,118,429,931,799,350,736,446,496,385,940,641,14,375,82,807,704,782,521,88,363,273,587,172,947,103,762,491,371,45,432,457,928,761,892,11,214,344,920,727,147,299,283,975,412,636,803,994,697,743,173,927,868,226,305,31,921,841,602,285,483,494,922,623,116,661,631,361,95,261,776,594,581,179,102,62,204,487,825,184,685,741,91,951,881,900,622,737,411,346,846,822,29,54,599,39,157,801,146,221,691,780,826,724,394,52,629,573,359,963,402,1006,421,448,165,284,80,227,447,353,310,734,259,323,9,686,806,30,797,334,790,968,197,798,392,550,796,638,651,510,122,378,38,553,529,162,67,124,4,819,701,1004,427,618,560,506,916,399,635,352,1000,667,260,333,153,396,501,373,312,42,766,522,720,854,830,795,700,856,763,644,597,445,272,886,519,377,498,887,828,634,97,128,544,379,203,343,735,816,518,787,488,237,549,400,570,232,442,98,884,987,511,619,217,360,558,746,967,225,18,168,292,614,397,540,328,783,954,93,213,337,425,811,115,158,998,112,36,105,362,365,441,565,351,982,249,857,804,406,861,164,885,821,836,83,705,295,70,610,671,932,873,906,731,127,848,1,710,539,601,308,585,410,171,417,891,842,603,460,875,637,423,315,376,524,876,438,747,150,1008,556,827,815,409,143,526,866,995,835,208,440,131,380,174,533,270,407,719,123,138,51,624,275,974,342,256,182,617,300,690,773,240,230,924,326,458,681,662,770,465,163,167,145,206,500,188,324,657,748,838,858,855,904,575,79,817,687,912,852,229,723,785,100,290,444,955,53,739,391,971,1007,666,251,499,475,670,271,44,113,24,211,620,169,591,978,596,520,32,611,109,136,330,222,28,287,722,55,981,890,910,48,913,985,642,545,477,547,63,413,384,898,322,451,789,234,656,557,462,424,889,303,893,689,219,879,296,21,760,420,325,199,450,137,536,696,717,646,628,212,970,943,930,505,823,231,405,729,568,317,183,996,862,693,609,626,485,278,630,20,170,401,933,566,176,327,706,198,470,850,694,266,615,732,492,130,338,859,489,572,606,193,140,416,660,476,714,152,849,984,10,269,96,210,993,752,569,813,775,871,548,952,532,942,332,75,712,77,263,1002,149,941,514,949,469,564,774,461,253,771,845,369,321,695,151,958,302,190,586,348,243,793,87,751,655,918,778,418,288,648,166,595,946,155,356,381,279,126,707,777,22,616,665,282,903,471,738,367,25,196,64,15,466,297,883,621,336,820,26,588,43,497,792,515,964,561,917,454,387,71,542,456,633,431,627,653,728,264,209,316,896,513,313,534,829,319,7,393,141,86,864,478,503,753,215,580,562,398,925,668,490,252,907,468,914,357,254,276,178,281,390,508,749,583,972,129,144,960,847,645,715,905,767,72,908,235,37],\"y\":[289.570007,554.090027,529.559998,506.519989,579.840027,524.880005,374.850006,527.070007,322.440002,300.940002,547.820007,381.720001,311.76001,520.25,510.299988,552.780029,553.409973,346.48999,345.26001,369.75,309.25,358.820007,535.960022,653.159973,253.669998,342.390015,358.779999,493.160004,254.259995,311.690002,548.219971,373.690002,329.600006,267.619995,286.809998,263.079987,429.320007,437.48999,361.410004,325.209991,384.359985,335.660004,351.769989,369.429993,530.869995,525.5,541.450012,531.049988,537.309998,552.840027,340.660004,515.409973,353.190002,266.769989,489.429993,390.399994,364.230011,370.079987,553.289978,349.290009,539.849976,333.100006,611.0,337.48999,315.25,325.929993,312.459991,366.959991,328.899994,426.75,517.349976,288.940002,379.929993,327.5,276.820007,328.529999,504.579987,281.209991,312.279999,339.170013,375.5,335.829987,362.869995,275.299988,628.289978,555.309998,370.019989,508.890015,292.01001,342.880005,302.799988,674.049988,492.309998,294.160004,318.829987,361.809998,508.899994,484.670013,524.030029,368.769989,363.829987,362.440002,349.600006,419.600006,325.890015,651.450012,390.519989,557.280029,339.670013,332.700012,303.670013,271.269989,315.929993,624.940002,556.52002,546.880005,281.040009,265.320007,363.519989,610.340027,514.47998,341.179993,348.869995,361.01001,586.72998,264.75,482.679993,549.219971,525.690002,480.23999,501.769989,321.100006,627.039978,532.280029,256.079987,374.230011,316.480011,613.150024,485.809998,443.399994,359.970001,330.75,349.600006,603.349976,488.51001,362.660004,487.350006,494.730011,366.600006,415.440002,359.910004,493.329987,436.130005,413.440002,332.670013,398.179993,320.089996,261.429993,338.920013,488.940002,299.829987,488.279999,500.859985,391.980011,682.609985,524.890015,582.070007,495.649994,510.399994,254.589996,369.209991,492.410004,484.980011,313.480011,307.019989,466.26001,283.670013,366.959991,553.72998,363.600006,260.579987,484.119995,518.02002,486.279999,534.450012,296.779999,327.769989,502.109985,454.190002,379.5,617.77002,288.269989,429.480011,270.720001,289.619995,381.429993,366.230011,351.600006,267.660004,283.109985,375.429993,378.809998,520.799988,356.869995,348.109985,278.519989,488.23999,549.570007,317.5,546.98999,355.730011,508.049988,628.080017,286.730011,554.580017,291.029999,413.549988,544.530029,491.869995,516.049988,380.399994,337.450012,304.290009,280.290009,422.959991,336.299988,377.880005,326.459991,344.5,249.470001,503.839996,479.100006,427.140015,286.279999,490.100006,403.829987,371.070007,592.390015,290.170013,481.329987,374.600006,366.420013,493.480011,361.920013,353.399994,368.149994,289.290009,358.0,322.98999,385.029999,288.850006,533.780029,383.790009,522.419983,533.030029,502.899994,540.669983,482.839996,528.210022,551.340027,547.530029,453.720001,294.179993,352.600006,510.720001,369.029999,310.100006,343.160004,515.919983,501.670013,475.470001,384.480011,347.609985,361.76001,315.899994,258.820007,357.119995,500.48999,503.179993,371.709991,535.090027,338.690002,354.640015,396.720001,294.339996,431.820007,320.269989,288.589996,399.390015,515.840027,567.52002,387.779999,489.820007,266.839996,373.25,424.98999,565.169983,625.580017,255.570007,301.049988,363.649994,367.880005,523.26001,291.519989,370.959991,355.059998,524.440002,691.690002,404.980011,269.700012,352.01001,285.529999,505.549988,361.049988,365.359985,397.5,379.480011,285.769989,408.25,365.98999,315.100006,288.029999,424.679993,367.320007,610.539978,339.850006,533.539978,546.539978,298.600006,530.76001,374.130005,512.400024,495.079987,499.23999,365.799988,488.23999,364.709991,328.190002,507.76001,520.650024,637.969971,516.48999,598.719971,524.590027,351.829987,500.769989,265.720001,490.700012,357.119995,465.910004,371.829987,421.970001,265.920013,355.709991,268.029999,543.710022,487.269989,447.23999,306.160004,519.299988,482.350006,280.480011,364.369995,307.630005,368.970001,514.25,287.410004,556.780029,348.410004,410.170013,421.420013,487.700012,509.109985,270.75,368.040009,364.130005,542.950012,510.799988,499.079987,286.130005,292.859985,341.309998,308.929993,339.559998,332.029999,354.299988,291.559998,503.220001,338.380005,344.440002,332.700012,484.480011,356.269989,591.059998,350.619995,359.970001,301.829987,502.410004,359.459991,475.73999,520.700012,339.100006,297.570007,639.099976,352.209991,314.660004,530.719971,491.170013,538.849976,293.119995,380.709991,377.049988,367.679993,282.649994,345.089996,317.380005,354.269989,495.98999,561.929993,494.73999,533.97998,533.5,606.049988,451.040009,353.540009,496.079987,488.929993,575.429993,518.059998,271.200012,532.900024,512.179993,395.420013,367.720001,291.570007,682.02002,318.690002,494.25,294.980011,604.559998,405.600006,490.649994,355.809998,347.73999,333.200012,503.059998,359.609985,298.070007,375.130005,321.299988,282.880005,477.579987,351.350006,425.559998,614.23999,449.869995,381.049988,306.700012,548.72998,413.5,327.730011,351.850006,246.389999,318.450012,354.609985,524.830017,305.76001,610.710022,521.869995,586.5,307.779999,573.140015,597.369995,488.809998,379.959991,329.089996,371.119995,326.26001,263.309998,295.76001,566.179993,354.450012,302.600006,502.859985,324.660004,476.26001,426.700012,302.859985,282.929993,518.909973,377.339996,553.330017,504.209991,270.940002,510.820007,363.920013,321.160004,557.590027,274.459991,359.730011,286.209991,302.570007,338.019989,357.320007,470.5,493.600006,523.890015,509.640015,265.140015,611.659973,677.719971,633.799988,366.769989,486.660004,315.339996,294.290009,519.119995,435.549988,361.040009,312.869995,515.859985,535.97998,496.950012,502.779999,488.880005,335.660004,361.459991,509.079987,325.220001,349.100006,287.98999,639.0,434.26001,346.399994,354.390015,476.619995,290.059998,315.480011,508.820007,513.76001,362.869995,527.390015,540.72998,338.109985,345.869995,351.269989,541.640015,339.070007,441.950012,476.890015,317.920013,358.820007,269.579987,469.959991,332.630005,498.309998,369.950012,497.0,602.440002,278.549988,351.040009,411.089996,275.329987,519.200012,539.039978,440.519989,509.0,516.390015,511.769989,370.720001,679.330017,315.470001,681.169983,336.630005,344.720001,503.380005,351.290009,363.019989,386.700012,348.679993,690.309998,380.070007,646.909973,304.209991,428.149994,511.290009,304.320007,344.709991,550.640015,491.899994,326.459991,359.309998,514.72998,355.929993,654.059998,360.350006,315.440002,414.329987,360.299988,326.670013,521.659973,361.450012,532.390015,482.029999,583.849976,504.540009,268.149994,356.559998,556.549988,377.140015,447.769989,645.719971,350.350006,376.160004,310.829987,363.440002,350.920013,482.880005,506.440002,317.0,492.98999,482.880005,377.869995,606.710022,320.799988,499.100006,307.299988,315.880005,294.399994,326.890015,290.609985,298.929993,367.649994,519.969971,480.450012,360.869995,486.690002,321.549988,419.48999,289.929993,348.519989,513.390015,368.700012,616.469971,411.890015,592.640015,310.480011,298.98999,325.220001,364.079987,312.48999,466.929993,266.690002,498.619995,500.190002,513.969971,363.910004,290.299988,362.75,550.119995,386.0,378.670013,332.829987,497.890015,345.609985,266.0,291.769989,364.579987,360.570007,540.679993,323.309998,369.670013,548.159973,274.880005,419.890015,419.850006,293.25,631.849976,500.029999,338.619995,352.190002,589.289978,298.5,590.650024,379.929993,347.570007,361.209991,346.709991,375.220001,291.440002,380.01001,523.280029,425.920013,597.98999,349.359985,370.980011,665.640015,498.339996,526.27002,515.780029,597.539978,546.150024,324.179993,577.76001,337.589996,295.350006],\"type\":\"scatter\"},{\"mode\":\"lines\",\"name\":\"Predicted\",\"x\":[443,677,647,812,745,613,307,853,134,33,772,354,57,781,810,800,894,525,318,291,46,277,860,935,224,537,280,608,0,453,764,507,66,415,439,414,578,554,294,364,1003,245,257,161,730,612,678,869,863,649,247,872,239,220,837,92,114,543,988,76,990,474,969,132,528,372,58,289,246,551,880,40,89,192,434,68,711,436,382,139,541,482,118,429,931,799,350,736,446,496,385,940,641,14,375,82,807,704,782,521,88,363,273,587,172,947,103,762,491,371,45,432,457,928,761,892,11,214,344,920,727,147,299,283,975,412,636,803,994,697,743,173,927,868,226,305,31,921,841,602,285,483,494,922,623,116,661,631,361,95,261,776,594,581,179,102,62,204,487,825,184,685,741,91,951,881,900,622,737,411,346,846,822,29,54,599,39,157,801,146,221,691,780,826,724,394,52,629,573,359,963,402,1006,421,448,165,284,80,227,447,353,310,734,259,323,9,686,806,30,797,334,790,968,197,798,392,550,796,638,651,510,122,378,38,553,529,162,67,124,4,819,701,1004,427,618,560,506,916,399,635,352,1000,667,260,333,153,396,501,373,312,42,766,522,720,854,830,795,700,856,763,644,597,445,272,886,519,377,498,887,828,634,97,128,544,379,203,343,735,816,518,787,488,237,549,400,570,232,442,98,884,987,511,619,217,360,558,746,967,225,18,168,292,614,397,540,328,783,954,93,213,337,425,811,115,158,998,112,36,105,362,365,441,565,351,982,249,857,804,406,861,164,885,821,836,83,705,295,70,610,671,932,873,906,731,127,848,1,710,539,601,308,585,410,171,417,891,842,603,460,875,637,423,315,376,524,876,438,747,150,1008,556,827,815,409,143,526,866,995,835,208,440,131,380,174,533,270,407,719,123,138,51,624,275,974,342,256,182,617,300,690,773,240,230,924,326,458,681,662,770,465,163,167,145,206,500,188,324,657,748,838,858,855,904,575,79,817,687,912,852,229,723,785,100,290,444,955,53,739,391,971,1007,666,251,499,475,670,271,44,113,24,211,620,169,591,978,596,520,32,611,109,136,330,222,28,287,722,55,981,890,910,48,913,985,642,545,477,547,63,413,384,898,322,451,789,234,656,557,462,424,889,303,893,689,219,879,296,21,760,420,325,199,450,137,536,696,717,646,628,212,970,943,930,505,823,231,405,729,568,317,183,996,862,693,609,626,485,278,630,20,170,401,933,566,176,327,706,198,470,850,694,266,615,732,492,130,338,859,489,572,606,193,140,416,660,476,714,152,849,984,10,269,96,210,993,752,569,813,775,871,548,952,532,942,332,75,712,77,263,1002,149,941,514,949,469,564,774,461,253,771,845,369,321,695,151,958,302,190,586,348,243,793,87,751,655,918,778,418,288,648,166,595,946,155,356,381,279,126,707,777,22,616,665,282,903,471,738,367,25,196,64,15,466,297,883,621,336,820,26,588,43,497,792,515,964,561,917,454,387,71,542,456,633,431,627,653,728,264,209,316,896,513,313,534,829,319,7,393,141,86,864,478,503,753,215,580,562,398,925,668,490,252,907,468,914,357,254,276,178,281,390,508,749,583,972,129,144,960,847,645,715,905,767,72,908,235,37],\"y\":[398.2116095884128,470.43946921683585,461.17948721319186,512.1093882332337,491.4287617584289,450.68484094239534,356.2330245052267,524.7646969715472,302.83379495087974,271.65852220527836,499.76274556170847,370.74032964426897,279.06650780819353,502.5407401628016,511.4920560996575,508.4053954317761,537.4200057098606,423.52222706503966,359.6283512398962,351.2943674366166,275.67118107352405,346.97304250158277,526.9253594390641,550.0753144481741,330.6137409618117,427.2262198664972,347.8990407019471,449.14151060845467,261.47254200126997,401.29827025629413,497.2934170274034,417.9662378628533,281.84450240928675,389.56895971834507,396.97694532126025,389.26029365155694,439.8815286048107,432.4735430018955,352.220365636981,373.8269903121503,571.0646069897671,337.0957283643625,340.7997211658201,311.1677787541594,486.79877075660687,450.3761748756072,470.748135283624,529.7033540401574,527.8513576394286,461.79681934676813,337.7130604979387,530.6293522405217,335.2437319636337,329.37907669465915,519.826039902937,289.8698201457782,296.6604736151171,429.078216267226,566.4346159879451,284.93116307716804,567.0519481215214,407.7802576588449,560.5699607189706,302.2164628173035,424.44822526540406,376.29631884645534,279.37517387498167,350.6770353030403,337.40439443115065,431.5475448015311,533.0986807748268,273.8191846727953,288.9438219454138,320.7364268245915,395.4336149873196,282.461834542863,480.9341154876323,396.05094712089584,379.3829795143367,304.3771252848204,428.46088413364976,410.24958619315,297.89513788226964,393.8902846533789,548.8406501810216,508.09672936498805,369.50566537711643,488.6507671573357,399.1376077887772,414.5709111281838,380.3089777147011,551.6186447821148,459.32749081246305,265.79386693630386,377.22231704681974,286.78315947789685,510.5660578992931,478.7734530201154,502.8494062295898,422.2875627978871,288.63515587862565,373.5183242453621,345.73837823443023,442.6595232059039,314.5631054888288,553.7793072496318,293.2651468804477,496.6760848938271,413.02758079424314,375.9876527796672,275.3625150067359,394.8162828537433,402.53293452344667,547.9146519806571,496.367418827039,536.8026735762844,264.86786873593945,327.5270802939304,367.6536689763876,545.4453234463522,485.87277255624247,306.8464538191255,353.7636959709217,348.8250389023115,562.4219571196994,388.64296151798067,457.7841604785224,509.3313936321406,568.2866123886739,476.6127905525985,490.8114296248526,314.87177155561693,547.6059859138691,529.3946879733692,331.23107309538796,355.6156923716504,271.0411900717021,545.7539895131403,521.0607041700896,447.2895142077259,349.4423710358878,410.55825225993806,413.95357899460754,546.0626555799283,453.7715016102767,297.27780574869337,465.5008121482257,456.24083014458176,372.9009921117859,290.7958183461426,342.0343854329726,500.997409828861,444.82018567342084,440.8075268051751,316.72376795634574,292.9564808136595,280.6098381421342,324.44041962604905,411.7929165270906,516.1220471014794,318.2670982902864,472.9087977511409,490.19409749127635,289.56115407899006,555.0139715167842,533.407346841615,539.2720021105895,453.4628355434885,488.9594332241238,388.33429545119253,368.2710011099639,522.6040345040303,515.1960489011151,270.4238579381258,278.14050960782913,446.36351600736145,273.51051860600717,309.93311448700683,508.7140614985643,306.53778775233735,329.68774276144734,474.76079415186973,502.23207409601355,516.4307131682676,484.9467743558781,383.08697231579424,277.52317747425286,455.6234980110055,438.33819827087007,372.28365997820964,558.7179643182418,385.5563008500993,571.9906051901315,391.4209561190738,399.7549399223534,312.40244302131185,349.13370496909965,286.1658273443206,331.5397391621761,399.4462738555653,370.43166357748083,357.15902270559116,488.0334350237594,341.41705329939634,361.17168157383685,264.2505366023632,473.217463817929,510.25739183250494,270.73252400491396,507.4793972314118,364.5670083085063,505.31873476389484,560.2612946521824,322.2797571585321,507.78806329819986,382.469640182218,431.23887873474297,507.17073116462365,458.40149261209865,462.41415148034434,418.89223606321764,299.1298021494222,378.14831524718414,273.20185253921903,432.1648769351074,424.7568913321922,311.47644482094745,282.1531684760749,299.74713428299845,262.7072062684225,514.2700507007507,477.847454819751,571.3732730565553,393.27295251980263,452.228171276336,434.3255394026243,417.6575717960651,544.2106591791996,384.6303026497349,457.4754944117343,370.1229975106927,570.1386087894027,467.3528085489545,341.7257193661845,364.2583422417182,308.6984502198543,383.7043044493705,416.1142414621245,376.60498491324347,357.77635483916737,274.43651680637157,497.91074916097966,422.59622886467525,483.7121100887256,525.0733630383354,517.6653774354202,506.8620650978355,477.5387887529629,525.6906951719116,496.98475096061526,460.25348901282746,445.7461838737852,398.82894172198905,345.4297121676421,534.9506771755556,421.6702306643109,377.839649180396,415.1882432617601,535.2593432423437,517.0480453018439,457.1668283449461,291.41315047971887,300.981798550151,429.3868823340142,378.4569813139723,324.1317535592609,367.3450029095995,488.34210109054754,513.3440525003863,421.3615645975227,504.39273656353043,412.1015825938788,334.62639983005744,430.93021266795483,384.93896871652305,437.4122000705056,333.08306949611676,397.90294352162465,291.721816546507,534.3333450419793,566.1259499211569,419.20090213000583,452.53683734312415,328.4530784942948,372.5923260449978,433.70820726904805,491.73742782521697,559.9526285853943,330.9224070285998,267.02853120345634,313.32844122167626,351.60303350340473,450.9935070091835,384.0129705161587,428.1522180668617,362.7150119077775,503.1580722963779,555.9399697171486,290.1784862125663,327.21841422714226,365.49300650887074,392.65562038622636,511.80072216644567,296.96913968190523,310.24178055379497,569.5212766558265,296.04314148154083,272.58452040564276,293.8824790140239,373.20965817857405,374.1356563789384,397.5942774548365,435.868869736565,369.81433144390456,564.5826195872163,338.330392631515,525.9993612386997,509.64005969892867,386.79096511725186,527.2340255058523,312.0937769545237,534.6420111087675,514.8873828343269,519.5173738361489,287.091825544685,479.08211908690356,352.52903170376914,283.0791666764393,449.75884274203094,468.58747281610704,549.1493162478097,530.9380183073099,541.1239985113182,487.107436823395,300.67313248336285,523.2213666376065,261.7812080680581,480.62544942084423,427.8435520000735,446.9808481409377,356.5416905720149,442.0421910723276,388.0256293844044,314.25443942204066,390.1862918519213,536.4940075094962,521.3693702368778,447.598180274514,403.458932723811,531.5553504408861,458.0928265453105,392.0382882526501,358.7023530395318,377.5309831136079,423.2135609982515,531.8640165076743,396.6682792544721,492.04609389200516,307.7724520194899,572.6079373237078,433.0908751354718,516.7393792350557,513.0353864335982,387.71696331761626,305.61178955197295,423.8308931318278,528.7773558397929,568.595278455462,519.2087077693608,325.6750838932016,397.2856113880484,301.90779675051533,378.7656473807604,315.18043762240507,425.99155559934474,344.8123800340658,387.09963118404,483.4034440219374,299.4384682162103,304.0684592180323,277.2145114074647,454.08016767706476,346.3557103680065,562.1132910529113,367.03633684281135,340.49105509903194,317.64976615671014,451.9195052095479,354.0723620377098,474.45212808508154,500.07141162849655,335.55239803042184,332.4657373625405,546.6799877135046,362.09767977420125,402.84160059023475,471.6741334839884,465.8094782150139,499.1454134281322,405.0022630577517,311.7851108877356,313.0197751548881,306.2291216855492,325.0577517596253,415.80557539533635,319.50176255743895,361.480347640625,464.26614788107315,492.35475995879324,520.1347059697252,526.3080273054879,525.3820291051235,540.506666377742,438.95553040444634,285.85716127753244,513.6527185671744,473.5261298847172,542.9759949120471,524.456030904759,332.15707129575236,484.6381082890899,503.77540442995416,292.33914868008327,350.98570136982846,398.5202756552009,556.2486357839367,277.831843541041,489.5767653577001,382.1609741154299,561.1872928525469,572.2992712569196,467.04414248216636,338.94772476509127,415.4969093285482,408.08892372563304,468.2788067493189,345.12104610085396,275.0538489399478,296.35180754832896,268.88052760418515,326.601082093566,452.8455034099123,313.6371072884644,443.89418747305643,563.3479553200639,445.4375178069971,421.978896731099,271.3498561384902,450.06750880881907,295.1171432811764,303.451127084456,363.3323440413538,329.9964088282354,270.1151918713377,350.05970316946406,484.32944222230185,278.44917567461727,564.2739535204282,536.1853414427081,542.3586627784707,276.2885132071003,543.2846609788352,565.5086177875808,459.6361568792512,429.6955484008023,408.70625585920925,430.31288053437856,280.91850420892234,388.9516275847688,380.00031164791295,538.6546699770131,360.8630155070487,400.68093812271786,505.0100686971067,333.70040162969303,463.9574818142851,433.3995412022599,404.0762648573873,392.3469543194383,535.8766753759201,354.9983602380742,537.1113396430725,474.14346201829346,329.07041062787107,532.7900147080386,352.83769777055727,267.95452940382074,496.05875276025085,391.11229005228574,361.7890137074131,322.8970892921084,400.37227205592967,303.75979315124414,426.91755379970914,476.30412448581035,482.7861118883611,460.8708211464037,455.3148319442173,326.9097481603541,560.8786267857588,552.5446429824792,548.5319841142334,417.348905729277,515.5047149679033,332.77440342932863,386.4822990504637,486.49010468981874,436.79486793692934,359.31968517310804,317.9584322234983,568.9039445222502,527.5426915726405,475.378126285446,449.4501766752428,454.69749981064103,411.1755843935143,347.28170856837085,455.9321640777936,267.6458633370326,313.9457733552525,385.2476347833112,549.4579823145978,436.17753580335307,315.79776975598134,362.4063458409894,479.3907851536917,322.58842322532024,406.54559339169236,523.8386987711829,475.6867923522341,343.5777157669133,451.3021730759716,487.41610289018314,413.33624686103127,301.59913068372725,365.8016725756588,526.616693372276,412.41024866066687,438.0295322040819,448.52417847487845,321.04509289137957,304.68579135160854,389.8776257851332,465.1921460814376,408.3975897924212,481.8601136879968,308.38978415306616,523.5300327043947,565.1999517207926,264.5592026691513,344.5037139672777,291.10448441293073,326.29241602677786,567.9779463218858,493.5894242259458,437.1035340037175,512.4180543000218,500.6887437620728,530.3206861737335,430.62154660116676,555.3226375835723,425.6828895325566,552.235976915691,363.94967617493006,284.6224970103799,481.2427815544205,285.2398291439562,342.6517175665489,570.755940922979,307.46378595270176,551.9273108489028,420.1269003303702,554.3966393832079,406.23692732490423,435.5602036697768,500.38007769528474,403.76759879059915,339.56505689866754,499.4540794949203,522.2953684372421,375.37032064609093,360.5543494402606,475.9954584190222,308.081118086278,557.1746339843012,354.6896941712861,320.1190946910152,442.35085713911576,368.88833324354016,336.47839623078625,506.24473296425924,288.3264898118375,493.2807581591577,463.6488157474969,544.8279913127758,501.6147419624373,390.4949579187095,350.3683692362522,461.48815327998,312.7111090881,445.1288517402089,553.4706411828436,309.31578235343056,371.35766177784524,379.07431344754855,347.59037463515904,300.3644664165747,479.69945122047983,501.3060758956491,268.2631954706089,451.61083914275974,466.73547641537823,348.5163728355234,540.1980003109538,406.8542594584805,489.26809929091195,374.75298851251466,269.1891936709733,321.971091091744,281.2271702757105,266.10253300309193,405.3109291245398,353.1463638373454,534.0246789751911,453.1541694767004,365.18434044208254,514.5787167675388,269.4978597377614,442.96818927269203,274.7451828731597,414.87957719497194,505.9360668974711,420.43556639715837,559.0266303850299,434.63420546941245,544.5193252459877,401.6069363230822,380.92630984827736,283.3878327432274,428.76955020043795,402.2242684566585,456.85816227815803,394.50761678695517,455.0061658774292,463.0314836139206,486.1814386230306,342.960383633337,325.9837499599897,359.0110191063199,538.037337843437,419.8182342635821,358.0850209059555,426.30022166613287,517.356711368632,359.9370173066843,263.6332044687869,382.77830624900616,304.9944574183967,288.0178237450494,528.1600237062166,409.01492192599744,416.73157359570075,493.89809029273397,327.83574636071853,440.49886073838695,434.9428715362006,384.3216365829468,546.9886537802927,467.66147461574263,412.71891472745506,339.25639083187946,541.4326645781064,405.9282612581161,543.5933270456233,371.6663278446334,339.87372296545567,346.6643764347946,316.4151018895576,348.2077067687353,381.85230804864176,418.27490392964137,492.66342602558143,441.42485893875136,561.495958919335,301.2904646169391,305.9204556187611,557.7919661178773,522.9127005708184,460.5621550796156,482.16877975478485,540.8153324445301,498.2194152277678,283.69649881001556,541.7413306448946,334.00906769648117,272.8931864724309],\"type\":\"scatter\"}],                        {\"template\":{\"data\":{\"barpolar\":[{\"marker\":{\"line\":{\"color\":\"#E5ECF6\",\"width\":0.5},\"pattern\":{\"fillmode\":\"overlay\",\"size\":10,\"solidity\":0.2}},\"type\":\"barpolar\"}],\"bar\":[{\"error_x\":{\"color\":\"#2a3f5f\"},\"error_y\":{\"color\":\"#2a3f5f\"},\"marker\":{\"line\":{\"color\":\"#E5ECF6\",\"width\":0.5},\"pattern\":{\"fillmode\":\"overlay\",\"size\":10,\"solidity\":0.2}},\"type\":\"bar\"}],\"carpet\":[{\"aaxis\":{\"endlinecolor\":\"#2a3f5f\",\"gridcolor\":\"white\",\"linecolor\":\"white\",\"minorgridcolor\":\"white\",\"startlinecolor\":\"#2a3f5f\"},\"baxis\":{\"endlinecolor\":\"#2a3f5f\",\"gridcolor\":\"white\",\"linecolor\":\"white\",\"minorgridcolor\":\"white\",\"startlinecolor\":\"#2a3f5f\"},\"type\":\"carpet\"}],\"choropleth\":[{\"colorbar\":{\"outlinewidth\":0,\"ticks\":\"\"},\"type\":\"choropleth\"}],\"contourcarpet\":[{\"colorbar\":{\"outlinewidth\":0,\"ticks\":\"\"},\"type\":\"contourcarpet\"}],\"contour\":[{\"colorbar\":{\"outlinewidth\":0,\"ticks\":\"\"},\"colorscale\":[[0.0,\"#0d0887\"],[0.1111111111111111,\"#46039f\"],[0.2222222222222222,\"#7201a8\"],[0.3333333333333333,\"#9c179e\"],[0.4444444444444444,\"#bd3786\"],[0.5555555555555556,\"#d8576b\"],[0.6666666666666666,\"#ed7953\"],[0.7777777777777778,\"#fb9f3a\"],[0.8888888888888888,\"#fdca26\"],[1.0,\"#f0f921\"]],\"type\":\"contour\"}],\"heatmapgl\":[{\"colorbar\":{\"outlinewidth\":0,\"ticks\":\"\"},\"colorscale\":[[0.0,\"#0d0887\"],[0.1111111111111111,\"#46039f\"],[0.2222222222222222,\"#7201a8\"],[0.3333333333333333,\"#9c179e\"],[0.4444444444444444,\"#bd3786\"],[0.5555555555555556,\"#d8576b\"],[0.6666666666666666,\"#ed7953\"],[0.7777777777777778,\"#fb9f3a\"],[0.8888888888888888,\"#fdca26\"],[1.0,\"#f0f921\"]],\"type\":\"heatmapgl\"}],\"heatmap\":[{\"colorbar\":{\"outlinewidth\":0,\"ticks\":\"\"},\"colorscale\":[[0.0,\"#0d0887\"],[0.1111111111111111,\"#46039f\"],[0.2222222222222222,\"#7201a8\"],[0.3333333333333333,\"#9c179e\"],[0.4444444444444444,\"#bd3786\"],[0.5555555555555556,\"#d8576b\"],[0.6666666666666666,\"#ed7953\"],[0.7777777777777778,\"#fb9f3a\"],[0.8888888888888888,\"#fdca26\"],[1.0,\"#f0f921\"]],\"type\":\"heatmap\"}],\"histogram2dcontour\":[{\"colorbar\":{\"outlinewidth\":0,\"ticks\":\"\"},\"colorscale\":[[0.0,\"#0d0887\"],[0.1111111111111111,\"#46039f\"],[0.2222222222222222,\"#7201a8\"],[0.3333333333333333,\"#9c179e\"],[0.4444444444444444,\"#bd3786\"],[0.5555555555555556,\"#d8576b\"],[0.6666666666666666,\"#ed7953\"],[0.7777777777777778,\"#fb9f3a\"],[0.8888888888888888,\"#fdca26\"],[1.0,\"#f0f921\"]],\"type\":\"histogram2dcontour\"}],\"histogram2d\":[{\"colorbar\":{\"outlinewidth\":0,\"ticks\":\"\"},\"colorscale\":[[0.0,\"#0d0887\"],[0.1111111111111111,\"#46039f\"],[0.2222222222222222,\"#7201a8\"],[0.3333333333333333,\"#9c179e\"],[0.4444444444444444,\"#bd3786\"],[0.5555555555555556,\"#d8576b\"],[0.6666666666666666,\"#ed7953\"],[0.7777777777777778,\"#fb9f3a\"],[0.8888888888888888,\"#fdca26\"],[1.0,\"#f0f921\"]],\"type\":\"histogram2d\"}],\"histogram\":[{\"marker\":{\"pattern\":{\"fillmode\":\"overlay\",\"size\":10,\"solidity\":0.2}},\"type\":\"histogram\"}],\"mesh3d\":[{\"colorbar\":{\"outlinewidth\":0,\"ticks\":\"\"},\"type\":\"mesh3d\"}],\"parcoords\":[{\"line\":{\"colorbar\":{\"outlinewidth\":0,\"ticks\":\"\"}},\"type\":\"parcoords\"}],\"pie\":[{\"automargin\":true,\"type\":\"pie\"}],\"scatter3d\":[{\"line\":{\"colorbar\":{\"outlinewidth\":0,\"ticks\":\"\"}},\"marker\":{\"colorbar\":{\"outlinewidth\":0,\"ticks\":\"\"}},\"type\":\"scatter3d\"}],\"scattercarpet\":[{\"marker\":{\"colorbar\":{\"outlinewidth\":0,\"ticks\":\"\"}},\"type\":\"scattercarpet\"}],\"scattergeo\":[{\"marker\":{\"colorbar\":{\"outlinewidth\":0,\"ticks\":\"\"}},\"type\":\"scattergeo\"}],\"scattergl\":[{\"marker\":{\"colorbar\":{\"outlinewidth\":0,\"ticks\":\"\"}},\"type\":\"scattergl\"}],\"scattermapbox\":[{\"marker\":{\"colorbar\":{\"outlinewidth\":0,\"ticks\":\"\"}},\"type\":\"scattermapbox\"}],\"scatterpolargl\":[{\"marker\":{\"colorbar\":{\"outlinewidth\":0,\"ticks\":\"\"}},\"type\":\"scatterpolargl\"}],\"scatterpolar\":[{\"marker\":{\"colorbar\":{\"outlinewidth\":0,\"ticks\":\"\"}},\"type\":\"scatterpolar\"}],\"scatter\":[{\"fillpattern\":{\"fillmode\":\"overlay\",\"size\":10,\"solidity\":0.2},\"type\":\"scatter\"}],\"scatterternary\":[{\"marker\":{\"colorbar\":{\"outlinewidth\":0,\"ticks\":\"\"}},\"type\":\"scatterternary\"}],\"surface\":[{\"colorbar\":{\"outlinewidth\":0,\"ticks\":\"\"},\"colorscale\":[[0.0,\"#0d0887\"],[0.1111111111111111,\"#46039f\"],[0.2222222222222222,\"#7201a8\"],[0.3333333333333333,\"#9c179e\"],[0.4444444444444444,\"#bd3786\"],[0.5555555555555556,\"#d8576b\"],[0.6666666666666666,\"#ed7953\"],[0.7777777777777778,\"#fb9f3a\"],[0.8888888888888888,\"#fdca26\"],[1.0,\"#f0f921\"]],\"type\":\"surface\"}],\"table\":[{\"cells\":{\"fill\":{\"color\":\"#EBF0F8\"},\"line\":{\"color\":\"white\"}},\"header\":{\"fill\":{\"color\":\"#C8D4E3\"},\"line\":{\"color\":\"white\"}},\"type\":\"table\"}]},\"layout\":{\"annotationdefaults\":{\"arrowcolor\":\"#2a3f5f\",\"arrowhead\":0,\"arrowwidth\":1},\"autotypenumbers\":\"strict\",\"coloraxis\":{\"colorbar\":{\"outlinewidth\":0,\"ticks\":\"\"}},\"colorscale\":{\"diverging\":[[0,\"#8e0152\"],[0.1,\"#c51b7d\"],[0.2,\"#de77ae\"],[0.3,\"#f1b6da\"],[0.4,\"#fde0ef\"],[0.5,\"#f7f7f7\"],[0.6,\"#e6f5d0\"],[0.7,\"#b8e186\"],[0.8,\"#7fbc41\"],[0.9,\"#4d9221\"],[1,\"#276419\"]],\"sequential\":[[0.0,\"#0d0887\"],[0.1111111111111111,\"#46039f\"],[0.2222222222222222,\"#7201a8\"],[0.3333333333333333,\"#9c179e\"],[0.4444444444444444,\"#bd3786\"],[0.5555555555555556,\"#d8576b\"],[0.6666666666666666,\"#ed7953\"],[0.7777777777777778,\"#fb9f3a\"],[0.8888888888888888,\"#fdca26\"],[1.0,\"#f0f921\"]],\"sequentialminus\":[[0.0,\"#0d0887\"],[0.1111111111111111,\"#46039f\"],[0.2222222222222222,\"#7201a8\"],[0.3333333333333333,\"#9c179e\"],[0.4444444444444444,\"#bd3786\"],[0.5555555555555556,\"#d8576b\"],[0.6666666666666666,\"#ed7953\"],[0.7777777777777778,\"#fb9f3a\"],[0.8888888888888888,\"#fdca26\"],[1.0,\"#f0f921\"]]},\"colorway\":[\"#636efa\",\"#EF553B\",\"#00cc96\",\"#ab63fa\",\"#FFA15A\",\"#19d3f3\",\"#FF6692\",\"#B6E880\",\"#FF97FF\",\"#FECB52\"],\"font\":{\"color\":\"#2a3f5f\"},\"geo\":{\"bgcolor\":\"white\",\"lakecolor\":\"white\",\"landcolor\":\"#E5ECF6\",\"showlakes\":true,\"showland\":true,\"subunitcolor\":\"white\"},\"hoverlabel\":{\"align\":\"left\"},\"hovermode\":\"closest\",\"mapbox\":{\"style\":\"light\"},\"paper_bgcolor\":\"white\",\"plot_bgcolor\":\"#E5ECF6\",\"polar\":{\"angularaxis\":{\"gridcolor\":\"white\",\"linecolor\":\"white\",\"ticks\":\"\"},\"bgcolor\":\"#E5ECF6\",\"radialaxis\":{\"gridcolor\":\"white\",\"linecolor\":\"white\",\"ticks\":\"\"}},\"scene\":{\"xaxis\":{\"backgroundcolor\":\"#E5ECF6\",\"gridcolor\":\"white\",\"gridwidth\":2,\"linecolor\":\"white\",\"showbackground\":true,\"ticks\":\"\",\"zerolinecolor\":\"white\"},\"yaxis\":{\"backgroundcolor\":\"#E5ECF6\",\"gridcolor\":\"white\",\"gridwidth\":2,\"linecolor\":\"white\",\"showbackground\":true,\"ticks\":\"\",\"zerolinecolor\":\"white\"},\"zaxis\":{\"backgroundcolor\":\"#E5ECF6\",\"gridcolor\":\"white\",\"gridwidth\":2,\"linecolor\":\"white\",\"showbackground\":true,\"ticks\":\"\",\"zerolinecolor\":\"white\"}},\"shapedefaults\":{\"line\":{\"color\":\"#2a3f5f\"}},\"ternary\":{\"aaxis\":{\"gridcolor\":\"white\",\"linecolor\":\"white\",\"ticks\":\"\"},\"baxis\":{\"gridcolor\":\"white\",\"linecolor\":\"white\",\"ticks\":\"\"},\"bgcolor\":\"#E5ECF6\",\"caxis\":{\"gridcolor\":\"white\",\"linecolor\":\"white\",\"ticks\":\"\"}},\"title\":{\"x\":0.05},\"xaxis\":{\"automargin\":true,\"gridcolor\":\"white\",\"linecolor\":\"white\",\"ticks\":\"\",\"title\":{\"standoff\":15},\"zerolinecolor\":\"white\",\"zerolinewidth\":2},\"yaxis\":{\"automargin\":true,\"gridcolor\":\"white\",\"linecolor\":\"white\",\"ticks\":\"\",\"title\":{\"standoff\":15},\"zerolinecolor\":\"white\",\"zerolinewidth\":2}}},\"title\":{\"text\":\"Stock Price Actual vs Predicted Value\"},\"xaxis\":{\"title\":{\"text\":\"Day\"}},\"yaxis\":{\"title\":{\"text\":\"Price\"}}},                        {\"responsive\": true}                    ).then(function(){\n",
              "                            \n",
              "var gd = document.getElementById('d1204914-4c59-48ae-9b2e-e29c2d50a5b6');\n",
              "var x = new MutationObserver(function (mutations, observer) {{\n",
              "        var display = window.getComputedStyle(gd).display;\n",
              "        if (!display || display === 'none') {{\n",
              "            console.log([gd, 'removed!']);\n",
              "            Plotly.purge(gd);\n",
              "            observer.disconnect();\n",
              "        }}\n",
              "}});\n",
              "\n",
              "// Listen for the removal of the full notebook cells\n",
              "var notebookContainer = gd.closest('#notebook-container');\n",
              "if (notebookContainer) {{\n",
              "    x.observe(notebookContainer, {childList: true});\n",
              "}}\n",
              "\n",
              "// Listen for the clearing of the current output cell\n",
              "var outputEl = gd.closest('.output');\n",
              "if (outputEl) {{\n",
              "    x.observe(outputEl, {childList: true});\n",
              "}}\n",
              "\n",
              "                        })                };                            </script>        </div>\n",
              "</body>\n",
              "</html>"
            ]
          },
          "metadata": {}
        }
      ]
    },
    {
      "cell_type": "markdown",
      "source": [
        "##Calculating the mean_squared_error & r2_Score"
      ],
      "metadata": {
        "id": "ExYws2rI8xDN"
      }
    },
    {
      "cell_type": "code",
      "source": [
        "from sklearn.metrics import mean_squared_error as mse\n",
        "from sklearn.metrics import r2_score\n",
        "\n",
        "scores= f'''\n",
        "{'Metric'.ljust(10)}{'Train'.center(20)}{'Test'.center(20)}\n",
        "{'r2_score'.ljust(10)}{r2_score(y_train,regressor.predict(x_train))}\\t{r2_score(y_test,regressor.predict(x_test))}\n",
        "{'MSE'.ljust(10)}{mse(y_train,regressor.predict(x_train))}\\t{mse(y_test, regressor.predict(x_test))}\n",
        "'''\n",
        "print(scores)"
      ],
      "metadata": {
        "colab": {
          "base_uri": "https://localhost:8080/"
        },
        "id": "2ONGbHPC6OBa",
        "outputId": "ea7ad7a1-abdf-48bb-8f88-ff06989f2429"
      },
      "execution_count": 28,
      "outputs": [
        {
          "output_type": "stream",
          "name": "stdout",
          "text": [
            "\n",
            "Metric           Train                Test        \n",
            "r2_score  0.6983675949615704\t0.7251307098412487\n",
            "MSE       3378.540256001015\t3532.005120487623\n",
            "\n"
          ]
        }
      ]
    }
  ]
}